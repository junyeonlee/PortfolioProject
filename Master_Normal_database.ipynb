{
  "nbformat": 4,
  "nbformat_minor": 0,
  "metadata": {
    "colab": {
      "provenance": [],
      "collapsed_sections": [
        "2Xl_D_2Cc9xL",
        "FOkQg4U_MKuj",
        "K0pWcDenAs42"
      ],
      "include_colab_link": true
    },
    "kernelspec": {
      "name": "python3",
      "display_name": "Python 3"
    },
    "language_info": {
      "name": "python"
    }
  },
  "cells": [
    {
      "cell_type": "markdown",
      "metadata": {
        "id": "view-in-github",
        "colab_type": "text"
      },
      "source": [
        "<a href=\"https://colab.research.google.com/github/junyeonlee/PortfolioProject/blob/main/Master_Normal_database.ipynb\" target=\"_parent\"><img src=\"https://colab.research.google.com/assets/colab-badge.svg\" alt=\"Open In Colab\"/></a>"
      ]
    },
    {
      "cell_type": "markdown",
      "source": [],
      "metadata": {
        "id": "h4d408H2Wo4s"
      }
    },
    {
      "cell_type": "code",
      "source": [],
      "metadata": {
        "id": "9s4BbfcvWok7"
      },
      "execution_count": null,
      "outputs": []
    },
    {
      "cell_type": "markdown",
      "source": [
        "#Mount GD,GS, JSON"
      ],
      "metadata": {
        "id": "0Wg68D-_WoZk"
      }
    },
    {
      "cell_type": "code",
      "source": [
        "#mount GD, GS\n",
        "#open gs - csv - df\n",
        "from google.colab import auth\n",
        "auth.authenticate_user()\n",
        "\n",
        "import gspread\n",
        "from google.auth import default\n",
        "creds, _ = default()\n",
        "\n",
        "from google.colab import drive\n",
        "drive.mount('/content/drive') \n",
        "\n",
        "gc = gspread.authorize(creds)\n",
        "\n",
        "#worksheet = gc.open('Master_Trello1').sheet1"
      ],
      "metadata": {
        "colab": {
          "base_uri": "https://localhost:8080/"
        },
        "id": "C-q1tF1xMOly",
        "outputId": "5201ca8d-d942-44c9-fea0-8029bf486db9"
      },
      "execution_count": null,
      "outputs": [
        {
          "output_type": "stream",
          "name": "stdout",
          "text": [
            "Mounted at /content/drive\n"
          ]
        }
      ]
    },
    {
      "cell_type": "code",
      "source": [
        "worksheet = gc.open('Nomal Data').sheet1"
      ],
      "metadata": {
        "id": "6TwbS7fFRfBd"
      },
      "execution_count": null,
      "outputs": []
    },
    {
      "cell_type": "code",
      "source": [
        "import pandas as pd\n",
        "df = pd.DataFrame(worksheet.get_all_records())"
      ],
      "metadata": {
        "id": "aM_rj97hMOVy"
      },
      "execution_count": null,
      "outputs": []
    },
    {
      "cell_type": "markdown",
      "source": [
        "#Normal Database"
      ],
      "metadata": {
        "id": "bUwGcVdP25xe"
      }
    },
    {
      "cell_type": "markdown",
      "source": [
        "## Load Json \n",
        "- choose start date"
      ],
      "metadata": {
        "id": "y1V6CfjbR9Fr"
      }
    },
    {
      "cell_type": "code",
      "source": [
        "import json\n",
        "import datetime\n",
        "from datetime import datetime\n",
        "\n",
        "#for 'remove backwards'\n",
        "from tables import Cols\n",
        "import re"
      ],
      "metadata": {
        "id": "F83q9gCgR_9F"
      },
      "execution_count": null,
      "outputs": []
    },
    {
      "cell_type": "code",
      "source": [
        "import json\n",
        "\n",
        "#load New Json\n",
        "file_address = '/content/today.json'\n",
        "# file_address = '/content/trello_10_03.json'\n",
        "with open(file_address) as f:\n",
        "  data = json.load(f)"
      ],
      "metadata": {
        "id": "Ogb42HAWSBOb"
      },
      "execution_count": null,
      "outputs": []
    },
    {
      "cell_type": "code",
      "source": [
        "from datetime import timedelta"
      ],
      "metadata": {
        "id": "xL2JcQuoidgk"
      },
      "execution_count": null,
      "outputs": []
    },
    {
      "cell_type": "code",
      "source": [
        "latestdate = max(df['Date'])\n",
        "latestdate = pd.to_datetime(latestdate).date()\n",
        "latestdate = str(latestdate + timedelta(days=1))\n",
        "yesterday = str(datetime.now().date() - timedelta(days=1))"
      ],
      "metadata": {
        "id": "kJ_rWfEAv7ah"
      },
      "execution_count": null,
      "outputs": []
    },
    {
      "cell_type": "code",
      "source": [
        "#choose lastest df's latestdate\n",
        "temp = []\n",
        "# choost_list = [1,3,4,5,6,7,8,12,15,16,17]\n",
        "#max(df['Date'])\n",
        "for i in data['actions']:\n",
        "  if i['date'] > latestdate and i['date'] <= yesterday : #lastestdate \n",
        "    temp.append(i)\n",
        "\n",
        "data['actions'] = temp"
      ],
      "metadata": {
        "id": "EoowTUmkmWyl"
      },
      "execution_count": null,
      "outputs": []
    },
    {
      "cell_type": "code",
      "source": [
        "len(temp)"
      ],
      "metadata": {
        "id": "GfM8-qxkqteV",
        "colab": {
          "base_uri": "https://localhost:8080/"
        },
        "outputId": "a7346aad-b30f-4a24-8f28-dbe62438df51"
      },
      "execution_count": null,
      "outputs": [
        {
          "output_type": "execute_result",
          "data": {
            "text/plain": [
              "89"
            ]
          },
          "metadata": {},
          "execution_count": 11
        }
      ]
    },
    {
      "cell_type": "markdown",
      "source": [
        "## Browse json\n"
      ],
      "metadata": {
        "id": "2Xl_D_2Cc9xL"
      }
    },
    {
      "cell_type": "code",
      "source": [
        "type(max(df['Date']))"
      ],
      "metadata": {
        "colab": {
          "base_uri": "https://localhost:8080/"
        },
        "id": "1W0wB2IESBLh",
        "outputId": "0de84fda-0d8c-4b82-e46a-845bd84dd8ef"
      },
      "execution_count": null,
      "outputs": [
        {
          "output_type": "execute_result",
          "data": {
            "text/plain": [
              "str"
            ]
          },
          "metadata": {},
          "execution_count": 12
        }
      ]
    },
    {
      "cell_type": "code",
      "source": [
        "type('2022-08-11')"
      ],
      "metadata": {
        "colab": {
          "base_uri": "https://localhost:8080/"
        },
        "id": "tQagktRAsPTa",
        "outputId": "25fc37e7-328e-48d9-c296-6db0e5ee7177"
      },
      "execution_count": null,
      "outputs": [
        {
          "output_type": "execute_result",
          "data": {
            "text/plain": [
              "str"
            ]
          },
          "metadata": {},
          "execution_count": 13
        }
      ]
    },
    {
      "cell_type": "code",
      "source": [
        "# print(json.dumps(data['actions'][12], indent = 2))"
      ],
      "metadata": {
        "id": "WHR6B_uqfzXL"
      },
      "execution_count": null,
      "outputs": []
    },
    {
      "cell_type": "code",
      "source": [
        "# data['actions'][9]"
      ],
      "metadata": {
        "id": "A6A9QTeIeUbf"
      },
      "execution_count": null,
      "outputs": []
    },
    {
      "cell_type": "markdown",
      "source": [
        "## make updated_df"
      ],
      "metadata": {
        "id": "BtohW8XddBkj"
      }
    },
    {
      "cell_type": "code",
      "source": [
        "def create_record (i): \n",
        "  if 'card' in action_key_list and 'list' in action_key_list and i['data']['list']['name'][:2] == '1.' :    \n",
        "    action_ids.append(action_id)\n",
        "    ##\n",
        "    backlog_ckecker.append(action_id)\n",
        "\n",
        "    action_date = i.get('date')\n",
        "    day = pd.to_datetime(action_date)\n",
        "    day = datetime.strftime(day, '%Y-%m-%d')  \n",
        "    action_days.append(day)\n",
        "\n",
        "    card_name = i_data['card'].get('name')\n",
        "    card_names.append(card_name)\n",
        "\n",
        "    list_name = i_data['list']['name'][:2]\n",
        "    int_list_name = int(re.search(r'\\d+', list_name).group())\n",
        "    list_names.append(int_list_name)\n",
        "\n",
        "  elif 'card' in action_key_list and 'list' in action_key_list and 'cardSource' in action_key_list :\n",
        "    action_ids.append(action_id)\n",
        "    backlog_ckecker.append(action_id)\n",
        "\n",
        "    action_date = i.get('date')\n",
        "    day = pd.to_datetime(action_date)\n",
        "    day = datetime.strftime(day, '%Y-%m-%d')  \n",
        "    action_days.append(day)\n",
        "\n",
        "    card_name = i_data['card'].get('name')\n",
        "    card_names.append(card_name)\n",
        "\n",
        "    list_name = i_data['list']['name'][:2]\n",
        "    int_list_name = int(re.search(r'\\d+', list_name).group())\n",
        "    list_names.append(int_list_name)\n",
        "    backward_checker.append([len(card_names),action_id,day,int_list_name])\n",
        "\n",
        "  elif 'card' in action_key_list and 'listAfter' in action_key_list :\n",
        "    action_date = i.get('date')\n",
        "    day = pd.to_datetime(action_date)\n",
        "    day = datetime.strftime(day, '%Y-%m-%d')  \n",
        "    action_days.append(day)\n",
        "\n",
        "    action_ids.append(action_id)\n",
        "\n",
        "    card_name = i_data['card'].get('name')\n",
        "    card_names.append(card_name)\n",
        "\n",
        "    list_name = i_data['listAfter'].get('name')\n",
        "    int_list_name = int(re.search(r'\\d+', list_name).group())\n",
        "    list_names.append(int_list_name)\n",
        "\n",
        "    before_list_name = i_data['listBefore'].get('name')\n",
        "    int_before_list = int(re.search(r'\\d+', before_list_name).group())\n",
        "    if int_before_list > int_list_name and int_list_name >1:\n",
        "      backward_checker.append([len(card_names),action_id,day,int_list_name])\n",
        "    if  int_list_name > 11:\n",
        "      select_hiring_checker.append([len(card_names),action_id,day,int_before_list, int_list_name])\n"
      ],
      "metadata": {
        "id": "yTSwK4tGxsmz"
      },
      "execution_count": null,
      "outputs": []
    },
    {
      "cell_type": "code",
      "source": [
        "import re\n",
        "actions_card = []\n",
        "action_days = []\n",
        "action_ids = []\n",
        "card_names = []\n",
        "list_names = []\n",
        "choosedays = []\n",
        "backlog_ckecker = []\n",
        "backward_checker = []\n",
        "select_hiring_checker = []\n",
        "\n",
        "\n",
        "for c,i in enumerate(reversed(data['actions'])):\n",
        "  action_key_list = [*i['data']]\n",
        "  i_data = i['data']\n",
        "\n",
        "  try:\n",
        "    action_id = i_data['card'].get('id')\n",
        "    if 'card' in action_key_list and 'list' in action_key_list and action_id in backlog_ckecker :#and i['data']['list']['name'][:2] == '1.' :\n",
        "      continue\n",
        "      print(i_data['card']['name'])      \n",
        "  except:\n",
        "    continue\n",
        "\n",
        "  #get list of day,name,list  \n",
        "  create_record (i)"
      ],
      "metadata": {
        "id": "Rf2GO8ntxw0-"
      },
      "execution_count": null,
      "outputs": []
    },
    {
      "cell_type": "code",
      "source": [
        "len(data['actions'])"
      ],
      "metadata": {
        "colab": {
          "base_uri": "https://localhost:8080/"
        },
        "id": "q9CeIbBYKfWw",
        "outputId": "c66a4465-e4d4-41a8-af63-07908c93f491"
      },
      "execution_count": null,
      "outputs": [
        {
          "output_type": "execute_result",
          "data": {
            "text/plain": [
              "89"
            ]
          },
          "metadata": {},
          "execution_count": 18
        }
      ]
    },
    {
      "cell_type": "code",
      "source": [
        "# for c,i in enumerate(data['actions']):\n",
        "#   if i['data']['card']['id'] == '626960f0c3ebf368169df979' :\n",
        "#     print(c,i['date'],i['data'].keys())\n",
        "# data['actions'][302]['data']\n",
        "\n",
        "# data['actions'][1]['data'].keys()\n",
        "# 'card', 'list', 'board', 'cardSource'"
      ],
      "metadata": {
        "id": "M94g68KsN6Eq"
      },
      "execution_count": null,
      "outputs": []
    },
    {
      "cell_type": "code",
      "source": [
        "updated =  {\n",
        "    'Date' :  action_days,\n",
        "    'ID' :action_ids,\n",
        "    'Card' :card_names,\n",
        "    'List' : list_names,\n",
        "    'Countworkday' : None,\n",
        "    'Choosedate' : None,\n",
        "    'Archived': None,\n",
        "    'Valid' : None,\n",
        "}"
      ],
      "metadata": {
        "id": "Z8OCst5SqSSV"
      },
      "execution_count": null,
      "outputs": []
    },
    {
      "cell_type": "code",
      "source": [
        "updated_df = pd.DataFrame(updated)"
      ],
      "metadata": {
        "id": "V3FN8W7AqcSy"
      },
      "execution_count": null,
      "outputs": []
    },
    {
      "cell_type": "code",
      "source": [
        "updated_df.tail()"
      ],
      "metadata": {
        "colab": {
          "base_uri": "https://localhost:8080/"
        },
        "id": "eWXD2Nyrf2Eq",
        "outputId": "0e2610b4-ff85-4c1d-e14f-ebc3a02c27d0"
      },
      "execution_count": null,
      "outputs": [
        {
          "output_type": "execute_result",
          "data": {
            "text/plain": [
              "          Date                        ID  \\\n",
              "14  2022-10-19  633ddaca9aaedc015df5da89   \n",
              "15  2022-10-19  634d8b52d13e050127c65863   \n",
              "16  2022-10-19  634d8b52d13e050127c65863   \n",
              "17  2022-10-19  634d8b52d13e050127c65863   \n",
              "18  2022-10-19  634d8b52d13e050127c65863   \n",
              "\n",
              "                                                 Card  List Countworkday  \\\n",
              "14  Heather Steele | Records Clerk - Police (2) | ...    11         None   \n",
              "15             Sports Specialist - Parks | 10-17-2022     2         None   \n",
              "16             Sports Specialist - Parks | 10-17-2022     1         None   \n",
              "17             Sports Specialist - Parks | 10-17-2022     1         None   \n",
              "18             Sports Specialist - Parks | 10-17-2022     2         None   \n",
              "\n",
              "   Choosedate Archived Valid  \n",
              "14       None     None  None  \n",
              "15       None     None  None  \n",
              "16       None     None  None  \n",
              "17       None     None  None  \n",
              "18       None     None  None  "
            ],
            "text/html": [
              "\n",
              "  <div id=\"df-c495a9e0-099a-4341-b0fb-9ba4c242e015\">\n",
              "    <div class=\"colab-df-container\">\n",
              "      <div>\n",
              "<style scoped>\n",
              "    .dataframe tbody tr th:only-of-type {\n",
              "        vertical-align: middle;\n",
              "    }\n",
              "\n",
              "    .dataframe tbody tr th {\n",
              "        vertical-align: top;\n",
              "    }\n",
              "\n",
              "    .dataframe thead th {\n",
              "        text-align: right;\n",
              "    }\n",
              "</style>\n",
              "<table border=\"1\" class=\"dataframe\">\n",
              "  <thead>\n",
              "    <tr style=\"text-align: right;\">\n",
              "      <th></th>\n",
              "      <th>Date</th>\n",
              "      <th>ID</th>\n",
              "      <th>Card</th>\n",
              "      <th>List</th>\n",
              "      <th>Countworkday</th>\n",
              "      <th>Choosedate</th>\n",
              "      <th>Archived</th>\n",
              "      <th>Valid</th>\n",
              "    </tr>\n",
              "  </thead>\n",
              "  <tbody>\n",
              "    <tr>\n",
              "      <th>14</th>\n",
              "      <td>2022-10-19</td>\n",
              "      <td>633ddaca9aaedc015df5da89</td>\n",
              "      <td>Heather Steele | Records Clerk - Police (2) | ...</td>\n",
              "      <td>11</td>\n",
              "      <td>None</td>\n",
              "      <td>None</td>\n",
              "      <td>None</td>\n",
              "      <td>None</td>\n",
              "    </tr>\n",
              "    <tr>\n",
              "      <th>15</th>\n",
              "      <td>2022-10-19</td>\n",
              "      <td>634d8b52d13e050127c65863</td>\n",
              "      <td>Sports Specialist - Parks | 10-17-2022</td>\n",
              "      <td>2</td>\n",
              "      <td>None</td>\n",
              "      <td>None</td>\n",
              "      <td>None</td>\n",
              "      <td>None</td>\n",
              "    </tr>\n",
              "    <tr>\n",
              "      <th>16</th>\n",
              "      <td>2022-10-19</td>\n",
              "      <td>634d8b52d13e050127c65863</td>\n",
              "      <td>Sports Specialist - Parks | 10-17-2022</td>\n",
              "      <td>1</td>\n",
              "      <td>None</td>\n",
              "      <td>None</td>\n",
              "      <td>None</td>\n",
              "      <td>None</td>\n",
              "    </tr>\n",
              "    <tr>\n",
              "      <th>17</th>\n",
              "      <td>2022-10-19</td>\n",
              "      <td>634d8b52d13e050127c65863</td>\n",
              "      <td>Sports Specialist - Parks | 10-17-2022</td>\n",
              "      <td>1</td>\n",
              "      <td>None</td>\n",
              "      <td>None</td>\n",
              "      <td>None</td>\n",
              "      <td>None</td>\n",
              "    </tr>\n",
              "    <tr>\n",
              "      <th>18</th>\n",
              "      <td>2022-10-19</td>\n",
              "      <td>634d8b52d13e050127c65863</td>\n",
              "      <td>Sports Specialist - Parks | 10-17-2022</td>\n",
              "      <td>2</td>\n",
              "      <td>None</td>\n",
              "      <td>None</td>\n",
              "      <td>None</td>\n",
              "      <td>None</td>\n",
              "    </tr>\n",
              "  </tbody>\n",
              "</table>\n",
              "</div>\n",
              "      <button class=\"colab-df-convert\" onclick=\"convertToInteractive('df-c495a9e0-099a-4341-b0fb-9ba4c242e015')\"\n",
              "              title=\"Convert this dataframe to an interactive table.\"\n",
              "              style=\"display:none;\">\n",
              "        \n",
              "  <svg xmlns=\"http://www.w3.org/2000/svg\" height=\"24px\"viewBox=\"0 0 24 24\"\n",
              "       width=\"24px\">\n",
              "    <path d=\"M0 0h24v24H0V0z\" fill=\"none\"/>\n",
              "    <path d=\"M18.56 5.44l.94 2.06.94-2.06 2.06-.94-2.06-.94-.94-2.06-.94 2.06-2.06.94zm-11 1L8.5 8.5l.94-2.06 2.06-.94-2.06-.94L8.5 2.5l-.94 2.06-2.06.94zm10 10l.94 2.06.94-2.06 2.06-.94-2.06-.94-.94-2.06-.94 2.06-2.06.94z\"/><path d=\"M17.41 7.96l-1.37-1.37c-.4-.4-.92-.59-1.43-.59-.52 0-1.04.2-1.43.59L10.3 9.45l-7.72 7.72c-.78.78-.78 2.05 0 2.83L4 21.41c.39.39.9.59 1.41.59.51 0 1.02-.2 1.41-.59l7.78-7.78 2.81-2.81c.8-.78.8-2.07 0-2.86zM5.41 20L4 18.59l7.72-7.72 1.47 1.35L5.41 20z\"/>\n",
              "  </svg>\n",
              "      </button>\n",
              "      \n",
              "  <style>\n",
              "    .colab-df-container {\n",
              "      display:flex;\n",
              "      flex-wrap:wrap;\n",
              "      gap: 12px;\n",
              "    }\n",
              "\n",
              "    .colab-df-convert {\n",
              "      background-color: #E8F0FE;\n",
              "      border: none;\n",
              "      border-radius: 50%;\n",
              "      cursor: pointer;\n",
              "      display: none;\n",
              "      fill: #1967D2;\n",
              "      height: 32px;\n",
              "      padding: 0 0 0 0;\n",
              "      width: 32px;\n",
              "    }\n",
              "\n",
              "    .colab-df-convert:hover {\n",
              "      background-color: #E2EBFA;\n",
              "      box-shadow: 0px 1px 2px rgba(60, 64, 67, 0.3), 0px 1px 3px 1px rgba(60, 64, 67, 0.15);\n",
              "      fill: #174EA6;\n",
              "    }\n",
              "\n",
              "    [theme=dark] .colab-df-convert {\n",
              "      background-color: #3B4455;\n",
              "      fill: #D2E3FC;\n",
              "    }\n",
              "\n",
              "    [theme=dark] .colab-df-convert:hover {\n",
              "      background-color: #434B5C;\n",
              "      box-shadow: 0px 1px 3px 1px rgba(0, 0, 0, 0.15);\n",
              "      filter: drop-shadow(0px 1px 2px rgba(0, 0, 0, 0.3));\n",
              "      fill: #FFFFFF;\n",
              "    }\n",
              "  </style>\n",
              "\n",
              "      <script>\n",
              "        const buttonEl =\n",
              "          document.querySelector('#df-c495a9e0-099a-4341-b0fb-9ba4c242e015 button.colab-df-convert');\n",
              "        buttonEl.style.display =\n",
              "          google.colab.kernel.accessAllowed ? 'block' : 'none';\n",
              "\n",
              "        async function convertToInteractive(key) {\n",
              "          const element = document.querySelector('#df-c495a9e0-099a-4341-b0fb-9ba4c242e015');\n",
              "          const dataTable =\n",
              "            await google.colab.kernel.invokeFunction('convertToInteractive',\n",
              "                                                     [key], {});\n",
              "          if (!dataTable) return;\n",
              "\n",
              "          const docLinkHtml = 'Like what you see? Visit the ' +\n",
              "            '<a target=\"_blank\" href=https://colab.research.google.com/notebooks/data_table.ipynb>data table notebook</a>'\n",
              "            + ' to learn more about interactive tables.';\n",
              "          element.innerHTML = '';\n",
              "          dataTable['output_type'] = 'display_data';\n",
              "          await google.colab.output.renderOutput(dataTable, element);\n",
              "          const docLink = document.createElement('div');\n",
              "          docLink.innerHTML = docLinkHtml;\n",
              "          element.appendChild(docLink);\n",
              "        }\n",
              "      </script>\n",
              "    </div>\n",
              "  </div>\n",
              "  "
            ]
          },
          "metadata": {},
          "execution_count": 22
        }
      ]
    },
    {
      "cell_type": "markdown",
      "source": [
        "## updated_df Edit\n",
        "- split_name(n) & 12,13,14\n",
        "- ignore_school crossing guard"
      ],
      "metadata": {
        "id": "notiQkRSMQ_i"
      }
    },
    {
      "cell_type": "markdown",
      "source": [
        "### n-repeat row"
      ],
      "metadata": {
        "id": "VlKLtLxLppNy"
      }
    },
    {
      "cell_type": "code",
      "source": [
        "test_df = updated_df.loc[updated_df['List']>= 12]"
      ],
      "metadata": {
        "id": "HBYprc77e_i3"
      },
      "execution_count": null,
      "outputs": []
    },
    {
      "cell_type": "code",
      "source": [
        "def find_multiplecard(i):\n",
        "  card = test_df['Card'].iloc[i]\n",
        "  card = card.split(\"|\")\n",
        "  number = re.findall('\\(([^)]+)', card[0])\n",
        "  # list_name = test_df['List'].iloc[i]\n",
        "\n",
        "  try :\n",
        "    #if number is on the first \"|\"\n",
        "    if len(number) == 1 :\n",
        "      return int(number[0])\n",
        "    elif len(re.findall('\\(([^)]+)', card[1])) == 1:\n",
        "      number = re.findall('\\(([^)]+)', card[1])\n",
        "      return int(number[0])  \n",
        "    else :\n",
        "      return 1\n",
        "    \n",
        "  # except :\n",
        "  #   #if number is on the second \"|\"\n",
        "  #   card = test_df['Card'].iloc[i]\n",
        "  #   card = card.split(\"|\")[1]\n",
        "  #   return int(number[0])\n",
        "  except:\n",
        "    return 1"
      ],
      "metadata": {
        "id": "Ws1hysu3UyQv"
      },
      "execution_count": null,
      "outputs": []
    },
    {
      "cell_type": "code",
      "source": [
        "def repeat_nrow(n,i):\n",
        "  new_rows=[]\n",
        "  series = test_df.iloc[i]\n",
        "  # card = test_df.iloc[i]['Card']\n",
        "  # id = test_df.iloc[i]['ID']\n",
        "\n",
        "  if n>1:  \n",
        "    for number in range(2,n+1):\n",
        "      new_row = series\n",
        "      card = test_df.iloc[i]['Card']\n",
        "      card = card.split(\"|\")\n",
        "      card[0] = f\"#{number}_{card[0]}\"\n",
        "      card = \"|\".join(card)\n",
        "      new_row['Card'] = card  \n",
        "      # new_row['ID'] = f'{id}#{number}'\n",
        "      new_rows.append(new_row)      \n",
        "    return new_rows"
      ],
      "metadata": {
        "id": "2V0QG8VGhEqg"
      },
      "execution_count": null,
      "outputs": []
    },
    {
      "cell_type": "code",
      "source": [
        "#find (n), create n row, concat to updated_df\n",
        "new_rows=[]\n",
        "for i in range(len(test_df)):\n",
        "  n = find_multiplecard(i)\n",
        "  # print(type(n))\n",
        "  if type(repeat_nrow(n,i)) == list:\n",
        "    new_rows = repeat_nrow(n,i)\n",
        "    new_rows = pd.DataFrame(new_rows)\n",
        "    updated_df = pd.concat([updated_df,new_rows], ignore_index = True)    "
      ],
      "metadata": {
        "id": "fd812NV1eulh",
        "colab": {
          "base_uri": "https://localhost:8080/"
        },
        "outputId": "5be8025a-5917-45ac-d64c-36f2bab966a7"
      },
      "execution_count": null,
      "outputs": [
        {
          "output_type": "stream",
          "name": "stderr",
          "text": [
            "/usr/local/lib/python3.7/dist-packages/pandas/core/series.py:1056: SettingWithCopyWarning: \n",
            "A value is trying to be set on a copy of a slice from a DataFrame\n",
            "\n",
            "See the caveats in the documentation: https://pandas.pydata.org/pandas-docs/stable/user_guide/indexing.html#returning-a-view-versus-a-copy\n",
            "  cacher_needs_updating = self._check_is_chained_assignment_possible()\n"
          ]
        }
      ]
    },
    {
      "cell_type": "code",
      "source": [
        "# #find (n), create n row, concat to updated_df\n",
        "# new_rows=[]\n",
        "# for i in range(len(test_df)):\n",
        "#   n = find_multiplecard(i)\n",
        "#   if type(repeat_nrow(n,i)) == list:\n",
        "#     new_rows = repeat_nrow(n,i)\n",
        "#     new_rows = pd.DataFrame(new_rows)\n",
        "#     updated_df = pd.concat([updated_df,new_rows], ignore_index = True)    "
      ],
      "metadata": {
        "id": "6o5KAak-JCsn"
      },
      "execution_count": null,
      "outputs": []
    },
    {
      "cell_type": "code",
      "source": [
        "updated_df.iloc[310:]"
      ],
      "metadata": {
        "colab": {
          "base_uri": "https://localhost:8080/"
        },
        "id": "OPaSQ-bgUxKV",
        "outputId": "d3027648-30ed-4a96-d3f6-a1832af33473"
      },
      "execution_count": null,
      "outputs": [
        {
          "output_type": "execute_result",
          "data": {
            "text/plain": [
              "Empty DataFrame\n",
              "Columns: [Date, ID, Card, List, Countworkday, Choosedate, Archived, Valid]\n",
              "Index: []"
            ],
            "text/html": [
              "\n",
              "  <div id=\"df-45327ce1-717f-4ca1-af65-c7652db5fd26\">\n",
              "    <div class=\"colab-df-container\">\n",
              "      <div>\n",
              "<style scoped>\n",
              "    .dataframe tbody tr th:only-of-type {\n",
              "        vertical-align: middle;\n",
              "    }\n",
              "\n",
              "    .dataframe tbody tr th {\n",
              "        vertical-align: top;\n",
              "    }\n",
              "\n",
              "    .dataframe thead th {\n",
              "        text-align: right;\n",
              "    }\n",
              "</style>\n",
              "<table border=\"1\" class=\"dataframe\">\n",
              "  <thead>\n",
              "    <tr style=\"text-align: right;\">\n",
              "      <th></th>\n",
              "      <th>Date</th>\n",
              "      <th>ID</th>\n",
              "      <th>Card</th>\n",
              "      <th>List</th>\n",
              "      <th>Countworkday</th>\n",
              "      <th>Choosedate</th>\n",
              "      <th>Archived</th>\n",
              "      <th>Valid</th>\n",
              "    </tr>\n",
              "  </thead>\n",
              "  <tbody>\n",
              "  </tbody>\n",
              "</table>\n",
              "</div>\n",
              "      <button class=\"colab-df-convert\" onclick=\"convertToInteractive('df-45327ce1-717f-4ca1-af65-c7652db5fd26')\"\n",
              "              title=\"Convert this dataframe to an interactive table.\"\n",
              "              style=\"display:none;\">\n",
              "        \n",
              "  <svg xmlns=\"http://www.w3.org/2000/svg\" height=\"24px\"viewBox=\"0 0 24 24\"\n",
              "       width=\"24px\">\n",
              "    <path d=\"M0 0h24v24H0V0z\" fill=\"none\"/>\n",
              "    <path d=\"M18.56 5.44l.94 2.06.94-2.06 2.06-.94-2.06-.94-.94-2.06-.94 2.06-2.06.94zm-11 1L8.5 8.5l.94-2.06 2.06-.94-2.06-.94L8.5 2.5l-.94 2.06-2.06.94zm10 10l.94 2.06.94-2.06 2.06-.94-2.06-.94-.94-2.06-.94 2.06-2.06.94z\"/><path d=\"M17.41 7.96l-1.37-1.37c-.4-.4-.92-.59-1.43-.59-.52 0-1.04.2-1.43.59L10.3 9.45l-7.72 7.72c-.78.78-.78 2.05 0 2.83L4 21.41c.39.39.9.59 1.41.59.51 0 1.02-.2 1.41-.59l7.78-7.78 2.81-2.81c.8-.78.8-2.07 0-2.86zM5.41 20L4 18.59l7.72-7.72 1.47 1.35L5.41 20z\"/>\n",
              "  </svg>\n",
              "      </button>\n",
              "      \n",
              "  <style>\n",
              "    .colab-df-container {\n",
              "      display:flex;\n",
              "      flex-wrap:wrap;\n",
              "      gap: 12px;\n",
              "    }\n",
              "\n",
              "    .colab-df-convert {\n",
              "      background-color: #E8F0FE;\n",
              "      border: none;\n",
              "      border-radius: 50%;\n",
              "      cursor: pointer;\n",
              "      display: none;\n",
              "      fill: #1967D2;\n",
              "      height: 32px;\n",
              "      padding: 0 0 0 0;\n",
              "      width: 32px;\n",
              "    }\n",
              "\n",
              "    .colab-df-convert:hover {\n",
              "      background-color: #E2EBFA;\n",
              "      box-shadow: 0px 1px 2px rgba(60, 64, 67, 0.3), 0px 1px 3px 1px rgba(60, 64, 67, 0.15);\n",
              "      fill: #174EA6;\n",
              "    }\n",
              "\n",
              "    [theme=dark] .colab-df-convert {\n",
              "      background-color: #3B4455;\n",
              "      fill: #D2E3FC;\n",
              "    }\n",
              "\n",
              "    [theme=dark] .colab-df-convert:hover {\n",
              "      background-color: #434B5C;\n",
              "      box-shadow: 0px 1px 3px 1px rgba(0, 0, 0, 0.15);\n",
              "      filter: drop-shadow(0px 1px 2px rgba(0, 0, 0, 0.3));\n",
              "      fill: #FFFFFF;\n",
              "    }\n",
              "  </style>\n",
              "\n",
              "      <script>\n",
              "        const buttonEl =\n",
              "          document.querySelector('#df-45327ce1-717f-4ca1-af65-c7652db5fd26 button.colab-df-convert');\n",
              "        buttonEl.style.display =\n",
              "          google.colab.kernel.accessAllowed ? 'block' : 'none';\n",
              "\n",
              "        async function convertToInteractive(key) {\n",
              "          const element = document.querySelector('#df-45327ce1-717f-4ca1-af65-c7652db5fd26');\n",
              "          const dataTable =\n",
              "            await google.colab.kernel.invokeFunction('convertToInteractive',\n",
              "                                                     [key], {});\n",
              "          if (!dataTable) return;\n",
              "\n",
              "          const docLinkHtml = 'Like what you see? Visit the ' +\n",
              "            '<a target=\"_blank\" href=https://colab.research.google.com/notebooks/data_table.ipynb>data table notebook</a>'\n",
              "            + ' to learn more about interactive tables.';\n",
              "          element.innerHTML = '';\n",
              "          dataTable['output_type'] = 'display_data';\n",
              "          await google.colab.output.renderOutput(dataTable, element);\n",
              "          const docLink = document.createElement('div');\n",
              "          docLink.innerHTML = docLinkHtml;\n",
              "          element.appendChild(docLink);\n",
              "        }\n",
              "      </script>\n",
              "    </div>\n",
              "  </div>\n",
              "  "
            ]
          },
          "metadata": {},
          "execution_count": 28
        }
      ]
    },
    {
      "cell_type": "markdown",
      "source": [
        "###ignore posting\n",
        "-School Crossing Guard"
      ],
      "metadata": {
        "id": "UuwHRGldp33I"
      }
    },
    {
      "cell_type": "code",
      "source": [
        "updated_df"
      ],
      "metadata": {
        "colab": {
          "base_uri": "https://localhost:8080/"
        },
        "id": "ppAPG0Is-tzD",
        "outputId": "abed3644-a017-4759-ac7f-3e048e01f717"
      },
      "execution_count": null,
      "outputs": [
        {
          "output_type": "execute_result",
          "data": {
            "text/plain": [
              "          Date                        ID  \\\n",
              "0   2022-10-19  634851ea49b3ac03c3b295e6   \n",
              "1   2022-10-19  6349b04e5c8d0c01951dfc8e   \n",
              "2   2022-10-19  634851e8886edb0187e14fa9   \n",
              "3   2022-10-19  633af5f5bf2dda00d310c6f3   \n",
              "4   2022-10-19  633af5f5bf2dda00d310c6f3   \n",
              "5   2022-10-19  634ec4a688887e00fb3f7e2f   \n",
              "6   2022-10-19  62e1605cfe503b0d8d5b234a   \n",
              "7   2022-10-19  62fa86915d1d1882e6c02e1b   \n",
              "8   2022-10-19  635020df51955300d77aedbc   \n",
              "9   2022-10-19  635020f1dddf920071c7f521   \n",
              "10  2022-10-19  62a8edae3828ac0c39ecb789   \n",
              "11  2022-10-19  635020df51955300d77aedbc   \n",
              "12  2022-10-19  635020f1dddf920071c7f521   \n",
              "13  2022-10-19  631011de0c403b01cdaa16e2   \n",
              "14  2022-10-19  633ddaca9aaedc015df5da89   \n",
              "15  2022-10-19  634d8b52d13e050127c65863   \n",
              "16  2022-10-19  634d8b52d13e050127c65863   \n",
              "17  2022-10-19  634d8b52d13e050127c65863   \n",
              "18  2022-10-19  634d8b52d13e050127c65863   \n",
              "19  2022-10-19  62a8edae3828ac0c39ecb789   \n",
              "20  2022-10-19  62a8edae3828ac0c39ecb789   \n",
              "\n",
              "                                                 Card  List Countworkday  \\\n",
              "0   Laborer (4) - Utilities-Transmission and Distr...     4         None   \n",
              "1   Customer Relations Representative - Public Wor...     4         None   \n",
              "2   TFT Customer Service and Security Specialist (...     4         None   \n",
              "3   Laborer Operations Division/Grounds Maintenanc...     5         None   \n",
              "4   Laborer Operations Division/Grounds Maintenanc...     6         None   \n",
              "5   Apprentice Master Technician - Public Works-Fl...     1         None   \n",
              "6   Charlene Lawson | Team Leader - Public Works P...    13         None   \n",
              "7   Katherine Zaiger | Assistant Director - Enviro...    13         None   \n",
              "8   Leanne Johnson | Customer Relations (3) - Util...    10         None   \n",
              "9   Mary Langley | Customer Relations (3) - Utilit...    10         None   \n",
              "10  Beth Reynolds | Customer Relations (3) - Utili...    13         None   \n",
              "11  Leanne Johnson | Customer Relations (3) - Util...    11         None   \n",
              "12  Mary Langley | Customer Relations (3) - Utilit...    11         None   \n",
              "13  Robert Grubb | Working Foreperson Urban Forest...    13         None   \n",
              "14  Heather Steele | Records Clerk - Police (2) | ...    11         None   \n",
              "15             Sports Specialist - Parks | 10-17-2022     2         None   \n",
              "16             Sports Specialist - Parks | 10-17-2022     1         None   \n",
              "17             Sports Specialist - Parks | 10-17-2022     1         None   \n",
              "18             Sports Specialist - Parks | 10-17-2022     2         None   \n",
              "19  #3_Beth Reynolds | Customer Relations (3) - Ut...    13         None   \n",
              "20  #3_Beth Reynolds | Customer Relations (3) - Ut...    13         None   \n",
              "\n",
              "   Choosedate Archived Valid  \n",
              "0        None     None  None  \n",
              "1        None     None  None  \n",
              "2        None     None  None  \n",
              "3        None     None  None  \n",
              "4        None     None  None  \n",
              "5        None     None  None  \n",
              "6        None     None  None  \n",
              "7        None     None  None  \n",
              "8        None     None  None  \n",
              "9        None     None  None  \n",
              "10       None     None  None  \n",
              "11       None     None  None  \n",
              "12       None     None  None  \n",
              "13       None     None  None  \n",
              "14       None     None  None  \n",
              "15       None     None  None  \n",
              "16       None     None  None  \n",
              "17       None     None  None  \n",
              "18       None     None  None  \n",
              "19       None     None  None  \n",
              "20       None     None  None  "
            ],
            "text/html": [
              "\n",
              "  <div id=\"df-3f68efb5-ac3c-49f6-97e0-0439e062031c\">\n",
              "    <div class=\"colab-df-container\">\n",
              "      <div>\n",
              "<style scoped>\n",
              "    .dataframe tbody tr th:only-of-type {\n",
              "        vertical-align: middle;\n",
              "    }\n",
              "\n",
              "    .dataframe tbody tr th {\n",
              "        vertical-align: top;\n",
              "    }\n",
              "\n",
              "    .dataframe thead th {\n",
              "        text-align: right;\n",
              "    }\n",
              "</style>\n",
              "<table border=\"1\" class=\"dataframe\">\n",
              "  <thead>\n",
              "    <tr style=\"text-align: right;\">\n",
              "      <th></th>\n",
              "      <th>Date</th>\n",
              "      <th>ID</th>\n",
              "      <th>Card</th>\n",
              "      <th>List</th>\n",
              "      <th>Countworkday</th>\n",
              "      <th>Choosedate</th>\n",
              "      <th>Archived</th>\n",
              "      <th>Valid</th>\n",
              "    </tr>\n",
              "  </thead>\n",
              "  <tbody>\n",
              "    <tr>\n",
              "      <th>0</th>\n",
              "      <td>2022-10-19</td>\n",
              "      <td>634851ea49b3ac03c3b295e6</td>\n",
              "      <td>Laborer (4) - Utilities-Transmission and Distr...</td>\n",
              "      <td>4</td>\n",
              "      <td>None</td>\n",
              "      <td>None</td>\n",
              "      <td>None</td>\n",
              "      <td>None</td>\n",
              "    </tr>\n",
              "    <tr>\n",
              "      <th>1</th>\n",
              "      <td>2022-10-19</td>\n",
              "      <td>6349b04e5c8d0c01951dfc8e</td>\n",
              "      <td>Customer Relations Representative - Public Wor...</td>\n",
              "      <td>4</td>\n",
              "      <td>None</td>\n",
              "      <td>None</td>\n",
              "      <td>None</td>\n",
              "      <td>None</td>\n",
              "    </tr>\n",
              "    <tr>\n",
              "      <th>2</th>\n",
              "      <td>2022-10-19</td>\n",
              "      <td>634851e8886edb0187e14fa9</td>\n",
              "      <td>TFT Customer Service and Security Specialist (...</td>\n",
              "      <td>4</td>\n",
              "      <td>None</td>\n",
              "      <td>None</td>\n",
              "      <td>None</td>\n",
              "      <td>None</td>\n",
              "    </tr>\n",
              "    <tr>\n",
              "      <th>3</th>\n",
              "      <td>2022-10-19</td>\n",
              "      <td>633af5f5bf2dda00d310c6f3</td>\n",
              "      <td>Laborer Operations Division/Grounds Maintenanc...</td>\n",
              "      <td>5</td>\n",
              "      <td>None</td>\n",
              "      <td>None</td>\n",
              "      <td>None</td>\n",
              "      <td>None</td>\n",
              "    </tr>\n",
              "    <tr>\n",
              "      <th>4</th>\n",
              "      <td>2022-10-19</td>\n",
              "      <td>633af5f5bf2dda00d310c6f3</td>\n",
              "      <td>Laborer Operations Division/Grounds Maintenanc...</td>\n",
              "      <td>6</td>\n",
              "      <td>None</td>\n",
              "      <td>None</td>\n",
              "      <td>None</td>\n",
              "      <td>None</td>\n",
              "    </tr>\n",
              "    <tr>\n",
              "      <th>5</th>\n",
              "      <td>2022-10-19</td>\n",
              "      <td>634ec4a688887e00fb3f7e2f</td>\n",
              "      <td>Apprentice Master Technician - Public Works-Fl...</td>\n",
              "      <td>1</td>\n",
              "      <td>None</td>\n",
              "      <td>None</td>\n",
              "      <td>None</td>\n",
              "      <td>None</td>\n",
              "    </tr>\n",
              "    <tr>\n",
              "      <th>6</th>\n",
              "      <td>2022-10-19</td>\n",
              "      <td>62e1605cfe503b0d8d5b234a</td>\n",
              "      <td>Charlene Lawson | Team Leader - Public Works P...</td>\n",
              "      <td>13</td>\n",
              "      <td>None</td>\n",
              "      <td>None</td>\n",
              "      <td>None</td>\n",
              "      <td>None</td>\n",
              "    </tr>\n",
              "    <tr>\n",
              "      <th>7</th>\n",
              "      <td>2022-10-19</td>\n",
              "      <td>62fa86915d1d1882e6c02e1b</td>\n",
              "      <td>Katherine Zaiger | Assistant Director - Enviro...</td>\n",
              "      <td>13</td>\n",
              "      <td>None</td>\n",
              "      <td>None</td>\n",
              "      <td>None</td>\n",
              "      <td>None</td>\n",
              "    </tr>\n",
              "    <tr>\n",
              "      <th>8</th>\n",
              "      <td>2022-10-19</td>\n",
              "      <td>635020df51955300d77aedbc</td>\n",
              "      <td>Leanne Johnson | Customer Relations (3) - Util...</td>\n",
              "      <td>10</td>\n",
              "      <td>None</td>\n",
              "      <td>None</td>\n",
              "      <td>None</td>\n",
              "      <td>None</td>\n",
              "    </tr>\n",
              "    <tr>\n",
              "      <th>9</th>\n",
              "      <td>2022-10-19</td>\n",
              "      <td>635020f1dddf920071c7f521</td>\n",
              "      <td>Mary Langley | Customer Relations (3) - Utilit...</td>\n",
              "      <td>10</td>\n",
              "      <td>None</td>\n",
              "      <td>None</td>\n",
              "      <td>None</td>\n",
              "      <td>None</td>\n",
              "    </tr>\n",
              "    <tr>\n",
              "      <th>10</th>\n",
              "      <td>2022-10-19</td>\n",
              "      <td>62a8edae3828ac0c39ecb789</td>\n",
              "      <td>Beth Reynolds | Customer Relations (3) - Utili...</td>\n",
              "      <td>13</td>\n",
              "      <td>None</td>\n",
              "      <td>None</td>\n",
              "      <td>None</td>\n",
              "      <td>None</td>\n",
              "    </tr>\n",
              "    <tr>\n",
              "      <th>11</th>\n",
              "      <td>2022-10-19</td>\n",
              "      <td>635020df51955300d77aedbc</td>\n",
              "      <td>Leanne Johnson | Customer Relations (3) - Util...</td>\n",
              "      <td>11</td>\n",
              "      <td>None</td>\n",
              "      <td>None</td>\n",
              "      <td>None</td>\n",
              "      <td>None</td>\n",
              "    </tr>\n",
              "    <tr>\n",
              "      <th>12</th>\n",
              "      <td>2022-10-19</td>\n",
              "      <td>635020f1dddf920071c7f521</td>\n",
              "      <td>Mary Langley | Customer Relations (3) - Utilit...</td>\n",
              "      <td>11</td>\n",
              "      <td>None</td>\n",
              "      <td>None</td>\n",
              "      <td>None</td>\n",
              "      <td>None</td>\n",
              "    </tr>\n",
              "    <tr>\n",
              "      <th>13</th>\n",
              "      <td>2022-10-19</td>\n",
              "      <td>631011de0c403b01cdaa16e2</td>\n",
              "      <td>Robert Grubb | Working Foreperson Urban Forest...</td>\n",
              "      <td>13</td>\n",
              "      <td>None</td>\n",
              "      <td>None</td>\n",
              "      <td>None</td>\n",
              "      <td>None</td>\n",
              "    </tr>\n",
              "    <tr>\n",
              "      <th>14</th>\n",
              "      <td>2022-10-19</td>\n",
              "      <td>633ddaca9aaedc015df5da89</td>\n",
              "      <td>Heather Steele | Records Clerk - Police (2) | ...</td>\n",
              "      <td>11</td>\n",
              "      <td>None</td>\n",
              "      <td>None</td>\n",
              "      <td>None</td>\n",
              "      <td>None</td>\n",
              "    </tr>\n",
              "    <tr>\n",
              "      <th>15</th>\n",
              "      <td>2022-10-19</td>\n",
              "      <td>634d8b52d13e050127c65863</td>\n",
              "      <td>Sports Specialist - Parks | 10-17-2022</td>\n",
              "      <td>2</td>\n",
              "      <td>None</td>\n",
              "      <td>None</td>\n",
              "      <td>None</td>\n",
              "      <td>None</td>\n",
              "    </tr>\n",
              "    <tr>\n",
              "      <th>16</th>\n",
              "      <td>2022-10-19</td>\n",
              "      <td>634d8b52d13e050127c65863</td>\n",
              "      <td>Sports Specialist - Parks | 10-17-2022</td>\n",
              "      <td>1</td>\n",
              "      <td>None</td>\n",
              "      <td>None</td>\n",
              "      <td>None</td>\n",
              "      <td>None</td>\n",
              "    </tr>\n",
              "    <tr>\n",
              "      <th>17</th>\n",
              "      <td>2022-10-19</td>\n",
              "      <td>634d8b52d13e050127c65863</td>\n",
              "      <td>Sports Specialist - Parks | 10-17-2022</td>\n",
              "      <td>1</td>\n",
              "      <td>None</td>\n",
              "      <td>None</td>\n",
              "      <td>None</td>\n",
              "      <td>None</td>\n",
              "    </tr>\n",
              "    <tr>\n",
              "      <th>18</th>\n",
              "      <td>2022-10-19</td>\n",
              "      <td>634d8b52d13e050127c65863</td>\n",
              "      <td>Sports Specialist - Parks | 10-17-2022</td>\n",
              "      <td>2</td>\n",
              "      <td>None</td>\n",
              "      <td>None</td>\n",
              "      <td>None</td>\n",
              "      <td>None</td>\n",
              "    </tr>\n",
              "    <tr>\n",
              "      <th>19</th>\n",
              "      <td>2022-10-19</td>\n",
              "      <td>62a8edae3828ac0c39ecb789</td>\n",
              "      <td>#3_Beth Reynolds | Customer Relations (3) - Ut...</td>\n",
              "      <td>13</td>\n",
              "      <td>None</td>\n",
              "      <td>None</td>\n",
              "      <td>None</td>\n",
              "      <td>None</td>\n",
              "    </tr>\n",
              "    <tr>\n",
              "      <th>20</th>\n",
              "      <td>2022-10-19</td>\n",
              "      <td>62a8edae3828ac0c39ecb789</td>\n",
              "      <td>#3_Beth Reynolds | Customer Relations (3) - Ut...</td>\n",
              "      <td>13</td>\n",
              "      <td>None</td>\n",
              "      <td>None</td>\n",
              "      <td>None</td>\n",
              "      <td>None</td>\n",
              "    </tr>\n",
              "  </tbody>\n",
              "</table>\n",
              "</div>\n",
              "      <button class=\"colab-df-convert\" onclick=\"convertToInteractive('df-3f68efb5-ac3c-49f6-97e0-0439e062031c')\"\n",
              "              title=\"Convert this dataframe to an interactive table.\"\n",
              "              style=\"display:none;\">\n",
              "        \n",
              "  <svg xmlns=\"http://www.w3.org/2000/svg\" height=\"24px\"viewBox=\"0 0 24 24\"\n",
              "       width=\"24px\">\n",
              "    <path d=\"M0 0h24v24H0V0z\" fill=\"none\"/>\n",
              "    <path d=\"M18.56 5.44l.94 2.06.94-2.06 2.06-.94-2.06-.94-.94-2.06-.94 2.06-2.06.94zm-11 1L8.5 8.5l.94-2.06 2.06-.94-2.06-.94L8.5 2.5l-.94 2.06-2.06.94zm10 10l.94 2.06.94-2.06 2.06-.94-2.06-.94-.94-2.06-.94 2.06-2.06.94z\"/><path d=\"M17.41 7.96l-1.37-1.37c-.4-.4-.92-.59-1.43-.59-.52 0-1.04.2-1.43.59L10.3 9.45l-7.72 7.72c-.78.78-.78 2.05 0 2.83L4 21.41c.39.39.9.59 1.41.59.51 0 1.02-.2 1.41-.59l7.78-7.78 2.81-2.81c.8-.78.8-2.07 0-2.86zM5.41 20L4 18.59l7.72-7.72 1.47 1.35L5.41 20z\"/>\n",
              "  </svg>\n",
              "      </button>\n",
              "      \n",
              "  <style>\n",
              "    .colab-df-container {\n",
              "      display:flex;\n",
              "      flex-wrap:wrap;\n",
              "      gap: 12px;\n",
              "    }\n",
              "\n",
              "    .colab-df-convert {\n",
              "      background-color: #E8F0FE;\n",
              "      border: none;\n",
              "      border-radius: 50%;\n",
              "      cursor: pointer;\n",
              "      display: none;\n",
              "      fill: #1967D2;\n",
              "      height: 32px;\n",
              "      padding: 0 0 0 0;\n",
              "      width: 32px;\n",
              "    }\n",
              "\n",
              "    .colab-df-convert:hover {\n",
              "      background-color: #E2EBFA;\n",
              "      box-shadow: 0px 1px 2px rgba(60, 64, 67, 0.3), 0px 1px 3px 1px rgba(60, 64, 67, 0.15);\n",
              "      fill: #174EA6;\n",
              "    }\n",
              "\n",
              "    [theme=dark] .colab-df-convert {\n",
              "      background-color: #3B4455;\n",
              "      fill: #D2E3FC;\n",
              "    }\n",
              "\n",
              "    [theme=dark] .colab-df-convert:hover {\n",
              "      background-color: #434B5C;\n",
              "      box-shadow: 0px 1px 3px 1px rgba(0, 0, 0, 0.15);\n",
              "      filter: drop-shadow(0px 1px 2px rgba(0, 0, 0, 0.3));\n",
              "      fill: #FFFFFF;\n",
              "    }\n",
              "  </style>\n",
              "\n",
              "      <script>\n",
              "        const buttonEl =\n",
              "          document.querySelector('#df-3f68efb5-ac3c-49f6-97e0-0439e062031c button.colab-df-convert');\n",
              "        buttonEl.style.display =\n",
              "          google.colab.kernel.accessAllowed ? 'block' : 'none';\n",
              "\n",
              "        async function convertToInteractive(key) {\n",
              "          const element = document.querySelector('#df-3f68efb5-ac3c-49f6-97e0-0439e062031c');\n",
              "          const dataTable =\n",
              "            await google.colab.kernel.invokeFunction('convertToInteractive',\n",
              "                                                     [key], {});\n",
              "          if (!dataTable) return;\n",
              "\n",
              "          const docLinkHtml = 'Like what you see? Visit the ' +\n",
              "            '<a target=\"_blank\" href=https://colab.research.google.com/notebooks/data_table.ipynb>data table notebook</a>'\n",
              "            + ' to learn more about interactive tables.';\n",
              "          element.innerHTML = '';\n",
              "          dataTable['output_type'] = 'display_data';\n",
              "          await google.colab.output.renderOutput(dataTable, element);\n",
              "          const docLink = document.createElement('div');\n",
              "          docLink.innerHTML = docLinkHtml;\n",
              "          element.appendChild(docLink);\n",
              "        }\n",
              "      </script>\n",
              "    </div>\n",
              "  </div>\n",
              "  "
            ]
          },
          "metadata": {},
          "execution_count": 29
        }
      ]
    },
    {
      "cell_type": "code",
      "source": [
        "# ignore_strings = ['School Crossing Guard']\n",
        "# for i in range(len(updated_df)):\n",
        "#     try : \n",
        "#       card = updated_df['Card'][i]\n",
        "#       for j in ignore_strings:\n",
        "#         result = updated_df[updated_df['Card'].str.find(f'{j}') >0]\n",
        "#         result = result.loc[updated_df['List'] < 10].index\n",
        "#         updated_df = updated_df.drop(result)\n",
        "#     except:\n",
        "#       continue"
      ],
      "metadata": {
        "id": "bjd5ws7j6Ejh"
      },
      "execution_count": null,
      "outputs": []
    },
    {
      "cell_type": "code",
      "source": [
        "# def ignore_posting(card):\n",
        "ignore_strings = ['School Crossing Guard']\n",
        "def remove_ignore(updated_df, ignore_strings):\n",
        "  for i in range(len(updated_df)):\n",
        "    try : \n",
        "      card = updated_df['Card'][i]\n",
        "      for j in ignore_strings:\n",
        "        result = updated_df[updated_df['Card'].str.find(f'{j}') >0]\n",
        "        result = result.loc[updated_df['List'] < 11].index\n",
        "        updated_df = updated_df.drop(result)\n",
        "    except:\n",
        "      continue\n",
        "    return updated_df.reset_index(drop=True)"
      ],
      "metadata": {
        "id": "GOYHap5lp7w6"
      },
      "execution_count": null,
      "outputs": []
    },
    {
      "cell_type": "code",
      "source": [
        "updated_df = remove_ignore(updated_df, ignore_strings)"
      ],
      "metadata": {
        "id": "vc93GavUp9YE"
      },
      "execution_count": null,
      "outputs": []
    },
    {
      "cell_type": "code",
      "source": [
        "updated_df"
      ],
      "metadata": {
        "colab": {
          "base_uri": "https://localhost:8080/"
        },
        "id": "SvZzWw5s-VeQ",
        "outputId": "9e092cf1-2db5-4f90-85ee-d0772cab855b"
      },
      "execution_count": null,
      "outputs": [
        {
          "output_type": "execute_result",
          "data": {
            "text/plain": [
              "          Date                        ID  \\\n",
              "0   2022-10-19  634851ea49b3ac03c3b295e6   \n",
              "1   2022-10-19  6349b04e5c8d0c01951dfc8e   \n",
              "2   2022-10-19  634851e8886edb0187e14fa9   \n",
              "3   2022-10-19  633af5f5bf2dda00d310c6f3   \n",
              "4   2022-10-19  633af5f5bf2dda00d310c6f3   \n",
              "5   2022-10-19  634ec4a688887e00fb3f7e2f   \n",
              "6   2022-10-19  62e1605cfe503b0d8d5b234a   \n",
              "7   2022-10-19  62fa86915d1d1882e6c02e1b   \n",
              "8   2022-10-19  635020df51955300d77aedbc   \n",
              "9   2022-10-19  635020f1dddf920071c7f521   \n",
              "10  2022-10-19  62a8edae3828ac0c39ecb789   \n",
              "11  2022-10-19  635020df51955300d77aedbc   \n",
              "12  2022-10-19  635020f1dddf920071c7f521   \n",
              "13  2022-10-19  631011de0c403b01cdaa16e2   \n",
              "14  2022-10-19  633ddaca9aaedc015df5da89   \n",
              "15  2022-10-19  634d8b52d13e050127c65863   \n",
              "16  2022-10-19  634d8b52d13e050127c65863   \n",
              "17  2022-10-19  634d8b52d13e050127c65863   \n",
              "18  2022-10-19  634d8b52d13e050127c65863   \n",
              "19  2022-10-19  62a8edae3828ac0c39ecb789   \n",
              "20  2022-10-19  62a8edae3828ac0c39ecb789   \n",
              "\n",
              "                                                 Card  List Countworkday  \\\n",
              "0   Laborer (4) - Utilities-Transmission and Distr...     4         None   \n",
              "1   Customer Relations Representative - Public Wor...     4         None   \n",
              "2   TFT Customer Service and Security Specialist (...     4         None   \n",
              "3   Laborer Operations Division/Grounds Maintenanc...     5         None   \n",
              "4   Laborer Operations Division/Grounds Maintenanc...     6         None   \n",
              "5   Apprentice Master Technician - Public Works-Fl...     1         None   \n",
              "6   Charlene Lawson | Team Leader - Public Works P...    13         None   \n",
              "7   Katherine Zaiger | Assistant Director - Enviro...    13         None   \n",
              "8   Leanne Johnson | Customer Relations (3) - Util...    10         None   \n",
              "9   Mary Langley | Customer Relations (3) - Utilit...    10         None   \n",
              "10  Beth Reynolds | Customer Relations (3) - Utili...    13         None   \n",
              "11  Leanne Johnson | Customer Relations (3) - Util...    11         None   \n",
              "12  Mary Langley | Customer Relations (3) - Utilit...    11         None   \n",
              "13  Robert Grubb | Working Foreperson Urban Forest...    13         None   \n",
              "14  Heather Steele | Records Clerk - Police (2) | ...    11         None   \n",
              "15             Sports Specialist - Parks | 10-17-2022     2         None   \n",
              "16             Sports Specialist - Parks | 10-17-2022     1         None   \n",
              "17             Sports Specialist - Parks | 10-17-2022     1         None   \n",
              "18             Sports Specialist - Parks | 10-17-2022     2         None   \n",
              "19  #3_Beth Reynolds | Customer Relations (3) - Ut...    13         None   \n",
              "20  #3_Beth Reynolds | Customer Relations (3) - Ut...    13         None   \n",
              "\n",
              "   Choosedate Archived Valid  \n",
              "0        None     None  None  \n",
              "1        None     None  None  \n",
              "2        None     None  None  \n",
              "3        None     None  None  \n",
              "4        None     None  None  \n",
              "5        None     None  None  \n",
              "6        None     None  None  \n",
              "7        None     None  None  \n",
              "8        None     None  None  \n",
              "9        None     None  None  \n",
              "10       None     None  None  \n",
              "11       None     None  None  \n",
              "12       None     None  None  \n",
              "13       None     None  None  \n",
              "14       None     None  None  \n",
              "15       None     None  None  \n",
              "16       None     None  None  \n",
              "17       None     None  None  \n",
              "18       None     None  None  \n",
              "19       None     None  None  \n",
              "20       None     None  None  "
            ],
            "text/html": [
              "\n",
              "  <div id=\"df-7bd4d201-7c30-48cb-b30a-3dc12a7b933e\">\n",
              "    <div class=\"colab-df-container\">\n",
              "      <div>\n",
              "<style scoped>\n",
              "    .dataframe tbody tr th:only-of-type {\n",
              "        vertical-align: middle;\n",
              "    }\n",
              "\n",
              "    .dataframe tbody tr th {\n",
              "        vertical-align: top;\n",
              "    }\n",
              "\n",
              "    .dataframe thead th {\n",
              "        text-align: right;\n",
              "    }\n",
              "</style>\n",
              "<table border=\"1\" class=\"dataframe\">\n",
              "  <thead>\n",
              "    <tr style=\"text-align: right;\">\n",
              "      <th></th>\n",
              "      <th>Date</th>\n",
              "      <th>ID</th>\n",
              "      <th>Card</th>\n",
              "      <th>List</th>\n",
              "      <th>Countworkday</th>\n",
              "      <th>Choosedate</th>\n",
              "      <th>Archived</th>\n",
              "      <th>Valid</th>\n",
              "    </tr>\n",
              "  </thead>\n",
              "  <tbody>\n",
              "    <tr>\n",
              "      <th>0</th>\n",
              "      <td>2022-10-19</td>\n",
              "      <td>634851ea49b3ac03c3b295e6</td>\n",
              "      <td>Laborer (4) - Utilities-Transmission and Distr...</td>\n",
              "      <td>4</td>\n",
              "      <td>None</td>\n",
              "      <td>None</td>\n",
              "      <td>None</td>\n",
              "      <td>None</td>\n",
              "    </tr>\n",
              "    <tr>\n",
              "      <th>1</th>\n",
              "      <td>2022-10-19</td>\n",
              "      <td>6349b04e5c8d0c01951dfc8e</td>\n",
              "      <td>Customer Relations Representative - Public Wor...</td>\n",
              "      <td>4</td>\n",
              "      <td>None</td>\n",
              "      <td>None</td>\n",
              "      <td>None</td>\n",
              "      <td>None</td>\n",
              "    </tr>\n",
              "    <tr>\n",
              "      <th>2</th>\n",
              "      <td>2022-10-19</td>\n",
              "      <td>634851e8886edb0187e14fa9</td>\n",
              "      <td>TFT Customer Service and Security Specialist (...</td>\n",
              "      <td>4</td>\n",
              "      <td>None</td>\n",
              "      <td>None</td>\n",
              "      <td>None</td>\n",
              "      <td>None</td>\n",
              "    </tr>\n",
              "    <tr>\n",
              "      <th>3</th>\n",
              "      <td>2022-10-19</td>\n",
              "      <td>633af5f5bf2dda00d310c6f3</td>\n",
              "      <td>Laborer Operations Division/Grounds Maintenanc...</td>\n",
              "      <td>5</td>\n",
              "      <td>None</td>\n",
              "      <td>None</td>\n",
              "      <td>None</td>\n",
              "      <td>None</td>\n",
              "    </tr>\n",
              "    <tr>\n",
              "      <th>4</th>\n",
              "      <td>2022-10-19</td>\n",
              "      <td>633af5f5bf2dda00d310c6f3</td>\n",
              "      <td>Laborer Operations Division/Grounds Maintenanc...</td>\n",
              "      <td>6</td>\n",
              "      <td>None</td>\n",
              "      <td>None</td>\n",
              "      <td>None</td>\n",
              "      <td>None</td>\n",
              "    </tr>\n",
              "    <tr>\n",
              "      <th>5</th>\n",
              "      <td>2022-10-19</td>\n",
              "      <td>634ec4a688887e00fb3f7e2f</td>\n",
              "      <td>Apprentice Master Technician - Public Works-Fl...</td>\n",
              "      <td>1</td>\n",
              "      <td>None</td>\n",
              "      <td>None</td>\n",
              "      <td>None</td>\n",
              "      <td>None</td>\n",
              "    </tr>\n",
              "    <tr>\n",
              "      <th>6</th>\n",
              "      <td>2022-10-19</td>\n",
              "      <td>62e1605cfe503b0d8d5b234a</td>\n",
              "      <td>Charlene Lawson | Team Leader - Public Works P...</td>\n",
              "      <td>13</td>\n",
              "      <td>None</td>\n",
              "      <td>None</td>\n",
              "      <td>None</td>\n",
              "      <td>None</td>\n",
              "    </tr>\n",
              "    <tr>\n",
              "      <th>7</th>\n",
              "      <td>2022-10-19</td>\n",
              "      <td>62fa86915d1d1882e6c02e1b</td>\n",
              "      <td>Katherine Zaiger | Assistant Director - Enviro...</td>\n",
              "      <td>13</td>\n",
              "      <td>None</td>\n",
              "      <td>None</td>\n",
              "      <td>None</td>\n",
              "      <td>None</td>\n",
              "    </tr>\n",
              "    <tr>\n",
              "      <th>8</th>\n",
              "      <td>2022-10-19</td>\n",
              "      <td>635020df51955300d77aedbc</td>\n",
              "      <td>Leanne Johnson | Customer Relations (3) - Util...</td>\n",
              "      <td>10</td>\n",
              "      <td>None</td>\n",
              "      <td>None</td>\n",
              "      <td>None</td>\n",
              "      <td>None</td>\n",
              "    </tr>\n",
              "    <tr>\n",
              "      <th>9</th>\n",
              "      <td>2022-10-19</td>\n",
              "      <td>635020f1dddf920071c7f521</td>\n",
              "      <td>Mary Langley | Customer Relations (3) - Utilit...</td>\n",
              "      <td>10</td>\n",
              "      <td>None</td>\n",
              "      <td>None</td>\n",
              "      <td>None</td>\n",
              "      <td>None</td>\n",
              "    </tr>\n",
              "    <tr>\n",
              "      <th>10</th>\n",
              "      <td>2022-10-19</td>\n",
              "      <td>62a8edae3828ac0c39ecb789</td>\n",
              "      <td>Beth Reynolds | Customer Relations (3) - Utili...</td>\n",
              "      <td>13</td>\n",
              "      <td>None</td>\n",
              "      <td>None</td>\n",
              "      <td>None</td>\n",
              "      <td>None</td>\n",
              "    </tr>\n",
              "    <tr>\n",
              "      <th>11</th>\n",
              "      <td>2022-10-19</td>\n",
              "      <td>635020df51955300d77aedbc</td>\n",
              "      <td>Leanne Johnson | Customer Relations (3) - Util...</td>\n",
              "      <td>11</td>\n",
              "      <td>None</td>\n",
              "      <td>None</td>\n",
              "      <td>None</td>\n",
              "      <td>None</td>\n",
              "    </tr>\n",
              "    <tr>\n",
              "      <th>12</th>\n",
              "      <td>2022-10-19</td>\n",
              "      <td>635020f1dddf920071c7f521</td>\n",
              "      <td>Mary Langley | Customer Relations (3) - Utilit...</td>\n",
              "      <td>11</td>\n",
              "      <td>None</td>\n",
              "      <td>None</td>\n",
              "      <td>None</td>\n",
              "      <td>None</td>\n",
              "    </tr>\n",
              "    <tr>\n",
              "      <th>13</th>\n",
              "      <td>2022-10-19</td>\n",
              "      <td>631011de0c403b01cdaa16e2</td>\n",
              "      <td>Robert Grubb | Working Foreperson Urban Forest...</td>\n",
              "      <td>13</td>\n",
              "      <td>None</td>\n",
              "      <td>None</td>\n",
              "      <td>None</td>\n",
              "      <td>None</td>\n",
              "    </tr>\n",
              "    <tr>\n",
              "      <th>14</th>\n",
              "      <td>2022-10-19</td>\n",
              "      <td>633ddaca9aaedc015df5da89</td>\n",
              "      <td>Heather Steele | Records Clerk - Police (2) | ...</td>\n",
              "      <td>11</td>\n",
              "      <td>None</td>\n",
              "      <td>None</td>\n",
              "      <td>None</td>\n",
              "      <td>None</td>\n",
              "    </tr>\n",
              "    <tr>\n",
              "      <th>15</th>\n",
              "      <td>2022-10-19</td>\n",
              "      <td>634d8b52d13e050127c65863</td>\n",
              "      <td>Sports Specialist - Parks | 10-17-2022</td>\n",
              "      <td>2</td>\n",
              "      <td>None</td>\n",
              "      <td>None</td>\n",
              "      <td>None</td>\n",
              "      <td>None</td>\n",
              "    </tr>\n",
              "    <tr>\n",
              "      <th>16</th>\n",
              "      <td>2022-10-19</td>\n",
              "      <td>634d8b52d13e050127c65863</td>\n",
              "      <td>Sports Specialist - Parks | 10-17-2022</td>\n",
              "      <td>1</td>\n",
              "      <td>None</td>\n",
              "      <td>None</td>\n",
              "      <td>None</td>\n",
              "      <td>None</td>\n",
              "    </tr>\n",
              "    <tr>\n",
              "      <th>17</th>\n",
              "      <td>2022-10-19</td>\n",
              "      <td>634d8b52d13e050127c65863</td>\n",
              "      <td>Sports Specialist - Parks | 10-17-2022</td>\n",
              "      <td>1</td>\n",
              "      <td>None</td>\n",
              "      <td>None</td>\n",
              "      <td>None</td>\n",
              "      <td>None</td>\n",
              "    </tr>\n",
              "    <tr>\n",
              "      <th>18</th>\n",
              "      <td>2022-10-19</td>\n",
              "      <td>634d8b52d13e050127c65863</td>\n",
              "      <td>Sports Specialist - Parks | 10-17-2022</td>\n",
              "      <td>2</td>\n",
              "      <td>None</td>\n",
              "      <td>None</td>\n",
              "      <td>None</td>\n",
              "      <td>None</td>\n",
              "    </tr>\n",
              "    <tr>\n",
              "      <th>19</th>\n",
              "      <td>2022-10-19</td>\n",
              "      <td>62a8edae3828ac0c39ecb789</td>\n",
              "      <td>#3_Beth Reynolds | Customer Relations (3) - Ut...</td>\n",
              "      <td>13</td>\n",
              "      <td>None</td>\n",
              "      <td>None</td>\n",
              "      <td>None</td>\n",
              "      <td>None</td>\n",
              "    </tr>\n",
              "    <tr>\n",
              "      <th>20</th>\n",
              "      <td>2022-10-19</td>\n",
              "      <td>62a8edae3828ac0c39ecb789</td>\n",
              "      <td>#3_Beth Reynolds | Customer Relations (3) - Ut...</td>\n",
              "      <td>13</td>\n",
              "      <td>None</td>\n",
              "      <td>None</td>\n",
              "      <td>None</td>\n",
              "      <td>None</td>\n",
              "    </tr>\n",
              "  </tbody>\n",
              "</table>\n",
              "</div>\n",
              "      <button class=\"colab-df-convert\" onclick=\"convertToInteractive('df-7bd4d201-7c30-48cb-b30a-3dc12a7b933e')\"\n",
              "              title=\"Convert this dataframe to an interactive table.\"\n",
              "              style=\"display:none;\">\n",
              "        \n",
              "  <svg xmlns=\"http://www.w3.org/2000/svg\" height=\"24px\"viewBox=\"0 0 24 24\"\n",
              "       width=\"24px\">\n",
              "    <path d=\"M0 0h24v24H0V0z\" fill=\"none\"/>\n",
              "    <path d=\"M18.56 5.44l.94 2.06.94-2.06 2.06-.94-2.06-.94-.94-2.06-.94 2.06-2.06.94zm-11 1L8.5 8.5l.94-2.06 2.06-.94-2.06-.94L8.5 2.5l-.94 2.06-2.06.94zm10 10l.94 2.06.94-2.06 2.06-.94-2.06-.94-.94-2.06-.94 2.06-2.06.94z\"/><path d=\"M17.41 7.96l-1.37-1.37c-.4-.4-.92-.59-1.43-.59-.52 0-1.04.2-1.43.59L10.3 9.45l-7.72 7.72c-.78.78-.78 2.05 0 2.83L4 21.41c.39.39.9.59 1.41.59.51 0 1.02-.2 1.41-.59l7.78-7.78 2.81-2.81c.8-.78.8-2.07 0-2.86zM5.41 20L4 18.59l7.72-7.72 1.47 1.35L5.41 20z\"/>\n",
              "  </svg>\n",
              "      </button>\n",
              "      \n",
              "  <style>\n",
              "    .colab-df-container {\n",
              "      display:flex;\n",
              "      flex-wrap:wrap;\n",
              "      gap: 12px;\n",
              "    }\n",
              "\n",
              "    .colab-df-convert {\n",
              "      background-color: #E8F0FE;\n",
              "      border: none;\n",
              "      border-radius: 50%;\n",
              "      cursor: pointer;\n",
              "      display: none;\n",
              "      fill: #1967D2;\n",
              "      height: 32px;\n",
              "      padding: 0 0 0 0;\n",
              "      width: 32px;\n",
              "    }\n",
              "\n",
              "    .colab-df-convert:hover {\n",
              "      background-color: #E2EBFA;\n",
              "      box-shadow: 0px 1px 2px rgba(60, 64, 67, 0.3), 0px 1px 3px 1px rgba(60, 64, 67, 0.15);\n",
              "      fill: #174EA6;\n",
              "    }\n",
              "\n",
              "    [theme=dark] .colab-df-convert {\n",
              "      background-color: #3B4455;\n",
              "      fill: #D2E3FC;\n",
              "    }\n",
              "\n",
              "    [theme=dark] .colab-df-convert:hover {\n",
              "      background-color: #434B5C;\n",
              "      box-shadow: 0px 1px 3px 1px rgba(0, 0, 0, 0.15);\n",
              "      filter: drop-shadow(0px 1px 2px rgba(0, 0, 0, 0.3));\n",
              "      fill: #FFFFFF;\n",
              "    }\n",
              "  </style>\n",
              "\n",
              "      <script>\n",
              "        const buttonEl =\n",
              "          document.querySelector('#df-7bd4d201-7c30-48cb-b30a-3dc12a7b933e button.colab-df-convert');\n",
              "        buttonEl.style.display =\n",
              "          google.colab.kernel.accessAllowed ? 'block' : 'none';\n",
              "\n",
              "        async function convertToInteractive(key) {\n",
              "          const element = document.querySelector('#df-7bd4d201-7c30-48cb-b30a-3dc12a7b933e');\n",
              "          const dataTable =\n",
              "            await google.colab.kernel.invokeFunction('convertToInteractive',\n",
              "                                                     [key], {});\n",
              "          if (!dataTable) return;\n",
              "\n",
              "          const docLinkHtml = 'Like what you see? Visit the ' +\n",
              "            '<a target=\"_blank\" href=https://colab.research.google.com/notebooks/data_table.ipynb>data table notebook</a>'\n",
              "            + ' to learn more about interactive tables.';\n",
              "          element.innerHTML = '';\n",
              "          dataTable['output_type'] = 'display_data';\n",
              "          await google.colab.output.renderOutput(dataTable, element);\n",
              "          const docLink = document.createElement('div');\n",
              "          docLink.innerHTML = docLinkHtml;\n",
              "          element.appendChild(docLink);\n",
              "        }\n",
              "      </script>\n",
              "    </div>\n",
              "  </div>\n",
              "  "
            ]
          },
          "metadata": {},
          "execution_count": 33
        }
      ]
    },
    {
      "cell_type": "code",
      "source": [
        "len(updated_df)"
      ],
      "metadata": {
        "colab": {
          "base_uri": "https://localhost:8080/"
        },
        "id": "6e0xeTyOp-rB",
        "outputId": "4716502f-3736-4db6-f0f3-ebda22c4aa6e"
      },
      "execution_count": null,
      "outputs": [
        {
          "output_type": "execute_result",
          "data": {
            "text/plain": [
              "21"
            ]
          },
          "metadata": {},
          "execution_count": 34
        }
      ]
    },
    {
      "cell_type": "markdown",
      "source": [
        "## Save to Google Sheets"
      ],
      "metadata": {
        "id": "S4WyEcDYIaDH"
      }
    },
    {
      "cell_type": "code",
      "source": [
        "len(df['ID'])"
      ],
      "metadata": {
        "colab": {
          "base_uri": "https://localhost:8080/"
        },
        "id": "3se6kfzGKHqQ",
        "outputId": "c1034be7-23c7-4c0e-acd6-dc937a679356"
      },
      "execution_count": null,
      "outputs": [
        {
          "output_type": "execute_result",
          "data": {
            "text/plain": [
              "771"
            ]
          },
          "metadata": {},
          "execution_count": 35
        }
      ]
    },
    {
      "cell_type": "markdown",
      "source": [
        "###date, id, title, list_no"
      ],
      "metadata": {
        "id": "SYWWEFboUQGz"
      }
    },
    {
      "cell_type": "code",
      "source": [
        "len_updated_df = len(updated_df.columns)"
      ],
      "metadata": {
        "id": "Fbn2rB-DSAXz"
      },
      "execution_count": null,
      "outputs": []
    },
    {
      "cell_type": "code",
      "source": [
        "list_updated_df = updated_df.values.tolist()"
      ],
      "metadata": {
        "id": "phzEZUl0Ic_v"
      },
      "execution_count": null,
      "outputs": []
    },
    {
      "cell_type": "code",
      "source": [
        "cell_values = []\n",
        "for i in list_updated_df : \n",
        "  for j in range(len_updated_df) : \n",
        "    cell_values.append(i[j])\n",
        "len(cell_values)"
      ],
      "metadata": {
        "id": "1fKMy86bR2mr",
        "colab": {
          "base_uri": "https://localhost:8080/"
        },
        "outputId": "741be33a-0a9b-4bca-eebf-1060f44a6b01"
      },
      "execution_count": null,
      "outputs": [
        {
          "output_type": "execute_result",
          "data": {
            "text/plain": [
              "168"
            ]
          },
          "metadata": {},
          "execution_count": 38
        }
      ]
    },
    {
      "cell_type": "code",
      "source": [
        "length_df = len(df)+2\n",
        "length_end = length_df + len(updated_df) -1\n",
        "print(length_df, length_end)"
      ],
      "metadata": {
        "colab": {
          "base_uri": "https://localhost:8080/"
        },
        "id": "CRli756GW2MO",
        "outputId": "fb576422-5874-4838-b879-ce8dd4be00b0"
      },
      "execution_count": null,
      "outputs": [
        {
          "output_type": "stream",
          "name": "stdout",
          "text": [
            "773 793\n"
          ]
        }
      ]
    },
    {
      "cell_type": "code",
      "source": [
        "start_cell = \"A%d\"%length_df\n",
        "end_cell = \"H%d\"%length_end \n",
        "cell_range = f\"{start_cell}:{end_cell}\"\n",
        "print(cell_range)"
      ],
      "metadata": {
        "colab": {
          "base_uri": "https://localhost:8080/"
        },
        "id": "Q9xYpG3aWqdV",
        "outputId": "76a7e79d-c0cd-4098-e3f9-cd6b2f7a79e0"
      },
      "execution_count": null,
      "outputs": [
        {
          "output_type": "stream",
          "name": "stdout",
          "text": [
            "A773:H793\n"
          ]
        }
      ]
    },
    {
      "cell_type": "code",
      "source": [
        "cell_list = worksheet.range(cell_range)\n",
        "len(cell_list)"
      ],
      "metadata": {
        "id": "hnTszLCaUkl7",
        "colab": {
          "base_uri": "https://localhost:8080/"
        },
        "outputId": "b45a0496-b796-4c39-c6de-28b84b780f75"
      },
      "execution_count": null,
      "outputs": [
        {
          "output_type": "execute_result",
          "data": {
            "text/plain": [
              "168"
            ]
          },
          "metadata": {},
          "execution_count": 41
        }
      ]
    },
    {
      "cell_type": "code",
      "source": [
        "for c, cell in enumerate(cell_list):\n",
        "  cell.value = cell_values[c]\n",
        "  #print(c,cell)"
      ],
      "metadata": {
        "id": "nDu7MvvHUh-E"
      },
      "execution_count": null,
      "outputs": []
    },
    {
      "cell_type": "code",
      "source": [
        "worksheet.update_cells(cell_list)"
      ],
      "metadata": {
        "colab": {
          "base_uri": "https://localhost:8080/"
        },
        "id": "sVbFeGlkcioC",
        "outputId": "58b1022e-ebf6-41f6-9560-3e4ec3386b37"
      },
      "execution_count": null,
      "outputs": [
        {
          "output_type": "execute_result",
          "data": {
            "text/plain": [
              "{'spreadsheetId': '1bJjX4OQt_WE6qW-57IRaXqBafMuojdfK42xL4QU5jX4',\n",
              " 'updatedRange': 'Sheet1!A773:D793',\n",
              " 'updatedRows': 21,\n",
              " 'updatedColumns': 4,\n",
              " 'updatedCells': 84}"
            ]
          },
          "metadata": {},
          "execution_count": 43
        }
      ]
    },
    {
      "cell_type": "markdown",
      "source": [
        "## Edit worksheet\n",
        "- backward remove\n",
        "- Choose date\n",
        "- Archieved\n",
        "- Valid"
      ],
      "metadata": {
        "id": "rKm9l9_ziCpb"
      }
    },
    {
      "cell_type": "code",
      "source": [
        "worksheet = gc.open('Nomal Data').sheet1\n",
        "df = pd.DataFrame(worksheet.get_all_records())"
      ],
      "metadata": {
        "id": "UFZ_gFI9fUzw"
      },
      "execution_count": null,
      "outputs": []
    },
    {
      "cell_type": "markdown",
      "source": [
        "###ignore backword list\n"
      ],
      "metadata": {
        "id": "v_9qpsbP-a3F"
      }
    },
    {
      "cell_type": "code",
      "source": [
        "def remove_backwards(backward_checker):\n",
        "  for i in backward_checker:\n",
        "    index = i[0]\n",
        "    action_id = i[1]\n",
        "    day = i[2]\n",
        "    # int_before_list = i[3]\n",
        "    int_list_name =i[3]\n",
        "    max_search = index + length_df -3\n",
        "    test_df = df.iloc[:max_search]\n",
        "    test_index = test_df.loc[(test_df['ID'] == action_id) & (test_df['List'] >= int_list_name) & (test_df['Date'] <= day)].index\n",
        "\n",
        "    for j in test_index :\n",
        "          index = j\n",
        "          col=int(j+2)\n",
        "          val = int(df['List'][j]-100)\n",
        "          worksheet.update_cell(col,4, val)\n",
        "          print(\"cols\",col,val)\n",
        "          # print(int_before_list,int_list_name)"
      ],
      "metadata": {
        "id": "ff1sZPchW3e-"
      },
      "execution_count": null,
      "outputs": []
    },
    {
      "cell_type": "code",
      "source": [
        "remove_backwards(backward_checker)"
      ],
      "metadata": {
        "id": "L1RsIK4Epx88"
      },
      "execution_count": null,
      "outputs": []
    },
    {
      "cell_type": "markdown",
      "source": [
        "### Select 12,13,14 "
      ],
      "metadata": {
        "id": "6hmfc2Dev4gc"
      }
    },
    {
      "cell_type": "code",
      "source": [
        "select_hiring_checker"
      ],
      "metadata": {
        "colab": {
          "base_uri": "https://localhost:8080/"
        },
        "id": "-Yhj4lsjt9Ag",
        "outputId": "255d0502-c2e9-4696-e35d-8f2b7ca811bf"
      },
      "execution_count": null,
      "outputs": [
        {
          "output_type": "execute_result",
          "data": {
            "text/plain": [
              "[[7, '62e1605cfe503b0d8d5b234a', '2022-10-19', 10, 13],\n",
              " [8, '62fa86915d1d1882e6c02e1b', '2022-10-19', 10, 13],\n",
              " [11, '62a8edae3828ac0c39ecb789', '2022-10-19', 10, 13],\n",
              " [14, '631011de0c403b01cdaa16e2', '2022-10-19', 10, 13]]"
            ]
          },
          "metadata": {},
          "execution_count": 47
        }
      ]
    },
    {
      "cell_type": "code",
      "source": [
        "def hiring_checker(select_hiring_checker):\n",
        "  for i in select_hiring_checker:\n",
        "    index = i[0]\n",
        "    action_id = i[1]\n",
        "    day = i[2]\n",
        "    int_before_list = i[3]\n",
        "    int_list_name =i[4]\n",
        "    max_search = index + length_df -3\n",
        "    test_df = df.iloc[:max_search]\n",
        "    # over15, ignore all hiring\n",
        "    if int_list_name > 14:\n",
        "      test_index = test_df.loc[(test_df['ID'] == action_id) & (test_df['List'] >= 12) & (test_df['Date'] <= day)].index\n",
        "      print(test_index)\n",
        "    #erase duplicate in 12,13,14\n",
        "    elif int_list_name > 11:\n",
        "      test_index = test_df.loc[(test_df['ID'] == action_id) & (test_df['List'] >= 12) & (test_df['Date'] <= day)].index\n",
        "      test_index = test_index[:-1]\n",
        "      # print(\"elif\")\n",
        "\n",
        "    for j in test_index :\n",
        "          index = j\n",
        "          col=int(j+2)\n",
        "          val = int(df['List'][j]-1000)\n",
        "          worksheet.update_cell(col,4, val)\n",
        "          print(\"cols\",col,val)\n",
        "          # print(int_before_list,int_list_name)"
      ],
      "metadata": {
        "id": "ygJRTcM6wD7s"
      },
      "execution_count": null,
      "outputs": []
    },
    {
      "cell_type": "code",
      "source": [
        "hiring_checker(select_hiring_checker)"
      ],
      "metadata": {
        "id": "GRJykHqTB-I-"
      },
      "execution_count": null,
      "outputs": []
    },
    {
      "cell_type": "markdown",
      "source": [
        "### Choose date"
      ],
      "metadata": {
        "id": "bx2VXbadLo-_"
      }
    },
    {
      "cell_type": "code",
      "source": [
        "def create_closingdate (select_closingdate):\n",
        "  if len(select_closingdate.loc[(df['List'] == 4)]) >0 :\n",
        "  #List 4\n",
        "    select_closingdate = select_closingdate.loc[(df['List'] == 4)]\n",
        "\n",
        "    index = select_closingdate.index[0]\n",
        "    card = select_closingdate['Card']\n",
        "    card = card[index].split(\"|\")\n",
        "    card = card[-1].strip()\n",
        "    card = datetime.strptime(card, '%m-%d-%Y').date()\n",
        "    date = select_closingdate['Date']\n",
        "    date = date[index]\n",
        "    date = datetime.strptime(date, '%Y-%m-%d').date()\n",
        "    \n",
        "    if card > date :\n",
        "      closingdate = card\n",
        "    return closingdate\n",
        "\n",
        "  #List5,6,7,8\n",
        "  elif len(select_closingdate.loc[(df['List'] >= 5) & (df['List'] <= 8)]) > 0 :\n",
        "      select_closingdate = select_closingdate.loc[(df['List'] >= 5) & (df['List'] <= 8)]\n",
        "\n",
        "      try : \n",
        "        index = select_closingdate.index[0]\n",
        "        card = select_closingdate['Card']\n",
        "        card = card[index].split(\"|\")\n",
        "        card = card[-1].strip()\n",
        "        card = datetime.strptime(card, '%m-%d-%Y').date()\n",
        "        date = select_closingdate['Date']\n",
        "        date = min(date)\n",
        "        date = datetime.strptime(date, '%Y-%m-%d').date()  \n",
        "\n",
        "        if card <= date :\n",
        "          closingdate = card\n",
        "        return closingdate\n",
        "      except :\n",
        "        closingdate = min(select_closingdate['Date'])\n",
        "        return closingdate  \n",
        "  #no maching card_id      \n",
        "  elif len(select_closingdate.loc[(df['List'] >= 4) & (df['List'] <= 8)]) < 1 :\n",
        "\n",
        "    select_closingdate = df.loc[(df['List'] >= 4) & (df['List'] <= 8)]\n",
        "    \n",
        "    try :\n",
        "      reference = card_name.split(\"|\")[-2].strip()\n",
        "      select_closingdate = select_closingdate.loc[(df['Card'].str.find(reference)>0)]\n",
        "      index = select_closingdate.index[0]\n",
        "      card = select_closingdate['Card']\n",
        "      card = card[index].split(\"|\")\n",
        "      card = card[-1].strip()\n",
        "      card = datetime.strptime(card, '%m-%d-%Y').date()\n",
        "      date = select_closingdate['Date']\n",
        "      date = min(date)\n",
        "      date = datetime.strptime(date, '%Y-%m-%d').date()\n",
        "      if card <= date :\n",
        "        closingdate = card\n",
        "        return closingdate\n",
        "      else :\n",
        "        closingdate = min(select_closingdate['Date'])\n",
        "        return closingdate\n",
        "    \n",
        "    except :\n",
        "      closingdate = 0\n",
        "      return closingdate\n",
        "\n",
        "  # else :\n",
        "  #   select_closingdate = select_closingdate.loc[(df['List'] >= 5) & (df['List'] <= 8)]\n"
      ],
      "metadata": {
        "id": "Fag5eIH-f-EZ"
      },
      "execution_count": null,
      "outputs": []
    },
    {
      "cell_type": "code",
      "source": [
        "###############newe code\n",
        "choosedates = []\n",
        "\n",
        "for i in range(len(updated_df)) : \n",
        "  card_name = updated_df['Card'][i]\n",
        "  list_name = updated_df['List'][i]\n",
        "  action_id = updated_df['ID'][i]\n",
        "  select_closingdate = df.loc[(df['ID'] == action_id)]  \n",
        "\n",
        "  try :\n",
        "    if list_name == 12 or list_name == 13 or list_name == 14 :\n",
        "      choosedate = create_closingdate(select_closingdate)\n",
        "    else: \n",
        "      choosedate = df.loc[(df['List'] == 1) & (df['ID'] == action_id)]\n",
        "      choosedate = min(choosedate['Date'])\n",
        "    choosedates.append(choosedate)\n",
        "  #no date value\n",
        "  except:    \n",
        "    #no_date_df.append(action_id)\n",
        "    choosedates.append(0)"
      ],
      "metadata": {
        "id": "DMtD0ZBlf3kL"
      },
      "execution_count": null,
      "outputs": []
    },
    {
      "cell_type": "code",
      "source": [
        "updated_df['Choosedate'] = choosedates"
      ],
      "metadata": {
        "id": "b7LnJkPP_Gw3"
      },
      "execution_count": null,
      "outputs": []
    },
    {
      "cell_type": "code",
      "source": [
        "updated_df.tail()"
      ],
      "metadata": {
        "colab": {
          "base_uri": "https://localhost:8080/"
        },
        "id": "0_8_elvdU3Gm",
        "outputId": "3a5eee51-169f-456b-f360-9087952142fe"
      },
      "execution_count": null,
      "outputs": [
        {
          "output_type": "execute_result",
          "data": {
            "text/plain": [
              "          Date                        ID  \\\n",
              "16  2022-10-19  634d8b52d13e050127c65863   \n",
              "17  2022-10-19  634d8b52d13e050127c65863   \n",
              "18  2022-10-19  634d8b52d13e050127c65863   \n",
              "19  2022-10-19  62a8edae3828ac0c39ecb789   \n",
              "20  2022-10-19  62a8edae3828ac0c39ecb789   \n",
              "\n",
              "                                                 Card  List Countworkday  \\\n",
              "16             Sports Specialist - Parks | 10-17-2022     1         None   \n",
              "17             Sports Specialist - Parks | 10-17-2022     1         None   \n",
              "18             Sports Specialist - Parks | 10-17-2022     2         None   \n",
              "19  #3_Beth Reynolds | Customer Relations (3) - Ut...    13         None   \n",
              "20  #3_Beth Reynolds | Customer Relations (3) - Ut...    13         None   \n",
              "\n",
              "    Choosedate Archived Valid  \n",
              "16  2022-10-17     None  None  \n",
              "17  2022-10-17     None  None  \n",
              "18  2022-10-17     None  None  \n",
              "19  2022-07-14     None  None  \n",
              "20  2022-07-14     None  None  "
            ],
            "text/html": [
              "\n",
              "  <div id=\"df-e49cf37e-9b96-426b-8991-1b6542e48c09\">\n",
              "    <div class=\"colab-df-container\">\n",
              "      <div>\n",
              "<style scoped>\n",
              "    .dataframe tbody tr th:only-of-type {\n",
              "        vertical-align: middle;\n",
              "    }\n",
              "\n",
              "    .dataframe tbody tr th {\n",
              "        vertical-align: top;\n",
              "    }\n",
              "\n",
              "    .dataframe thead th {\n",
              "        text-align: right;\n",
              "    }\n",
              "</style>\n",
              "<table border=\"1\" class=\"dataframe\">\n",
              "  <thead>\n",
              "    <tr style=\"text-align: right;\">\n",
              "      <th></th>\n",
              "      <th>Date</th>\n",
              "      <th>ID</th>\n",
              "      <th>Card</th>\n",
              "      <th>List</th>\n",
              "      <th>Countworkday</th>\n",
              "      <th>Choosedate</th>\n",
              "      <th>Archived</th>\n",
              "      <th>Valid</th>\n",
              "    </tr>\n",
              "  </thead>\n",
              "  <tbody>\n",
              "    <tr>\n",
              "      <th>16</th>\n",
              "      <td>2022-10-19</td>\n",
              "      <td>634d8b52d13e050127c65863</td>\n",
              "      <td>Sports Specialist - Parks | 10-17-2022</td>\n",
              "      <td>1</td>\n",
              "      <td>None</td>\n",
              "      <td>2022-10-17</td>\n",
              "      <td>None</td>\n",
              "      <td>None</td>\n",
              "    </tr>\n",
              "    <tr>\n",
              "      <th>17</th>\n",
              "      <td>2022-10-19</td>\n",
              "      <td>634d8b52d13e050127c65863</td>\n",
              "      <td>Sports Specialist - Parks | 10-17-2022</td>\n",
              "      <td>1</td>\n",
              "      <td>None</td>\n",
              "      <td>2022-10-17</td>\n",
              "      <td>None</td>\n",
              "      <td>None</td>\n",
              "    </tr>\n",
              "    <tr>\n",
              "      <th>18</th>\n",
              "      <td>2022-10-19</td>\n",
              "      <td>634d8b52d13e050127c65863</td>\n",
              "      <td>Sports Specialist - Parks | 10-17-2022</td>\n",
              "      <td>2</td>\n",
              "      <td>None</td>\n",
              "      <td>2022-10-17</td>\n",
              "      <td>None</td>\n",
              "      <td>None</td>\n",
              "    </tr>\n",
              "    <tr>\n",
              "      <th>19</th>\n",
              "      <td>2022-10-19</td>\n",
              "      <td>62a8edae3828ac0c39ecb789</td>\n",
              "      <td>#3_Beth Reynolds | Customer Relations (3) - Ut...</td>\n",
              "      <td>13</td>\n",
              "      <td>None</td>\n",
              "      <td>2022-07-14</td>\n",
              "      <td>None</td>\n",
              "      <td>None</td>\n",
              "    </tr>\n",
              "    <tr>\n",
              "      <th>20</th>\n",
              "      <td>2022-10-19</td>\n",
              "      <td>62a8edae3828ac0c39ecb789</td>\n",
              "      <td>#3_Beth Reynolds | Customer Relations (3) - Ut...</td>\n",
              "      <td>13</td>\n",
              "      <td>None</td>\n",
              "      <td>2022-07-14</td>\n",
              "      <td>None</td>\n",
              "      <td>None</td>\n",
              "    </tr>\n",
              "  </tbody>\n",
              "</table>\n",
              "</div>\n",
              "      <button class=\"colab-df-convert\" onclick=\"convertToInteractive('df-e49cf37e-9b96-426b-8991-1b6542e48c09')\"\n",
              "              title=\"Convert this dataframe to an interactive table.\"\n",
              "              style=\"display:none;\">\n",
              "        \n",
              "  <svg xmlns=\"http://www.w3.org/2000/svg\" height=\"24px\"viewBox=\"0 0 24 24\"\n",
              "       width=\"24px\">\n",
              "    <path d=\"M0 0h24v24H0V0z\" fill=\"none\"/>\n",
              "    <path d=\"M18.56 5.44l.94 2.06.94-2.06 2.06-.94-2.06-.94-.94-2.06-.94 2.06-2.06.94zm-11 1L8.5 8.5l.94-2.06 2.06-.94-2.06-.94L8.5 2.5l-.94 2.06-2.06.94zm10 10l.94 2.06.94-2.06 2.06-.94-2.06-.94-.94-2.06-.94 2.06-2.06.94z\"/><path d=\"M17.41 7.96l-1.37-1.37c-.4-.4-.92-.59-1.43-.59-.52 0-1.04.2-1.43.59L10.3 9.45l-7.72 7.72c-.78.78-.78 2.05 0 2.83L4 21.41c.39.39.9.59 1.41.59.51 0 1.02-.2 1.41-.59l7.78-7.78 2.81-2.81c.8-.78.8-2.07 0-2.86zM5.41 20L4 18.59l7.72-7.72 1.47 1.35L5.41 20z\"/>\n",
              "  </svg>\n",
              "      </button>\n",
              "      \n",
              "  <style>\n",
              "    .colab-df-container {\n",
              "      display:flex;\n",
              "      flex-wrap:wrap;\n",
              "      gap: 12px;\n",
              "    }\n",
              "\n",
              "    .colab-df-convert {\n",
              "      background-color: #E8F0FE;\n",
              "      border: none;\n",
              "      border-radius: 50%;\n",
              "      cursor: pointer;\n",
              "      display: none;\n",
              "      fill: #1967D2;\n",
              "      height: 32px;\n",
              "      padding: 0 0 0 0;\n",
              "      width: 32px;\n",
              "    }\n",
              "\n",
              "    .colab-df-convert:hover {\n",
              "      background-color: #E2EBFA;\n",
              "      box-shadow: 0px 1px 2px rgba(60, 64, 67, 0.3), 0px 1px 3px 1px rgba(60, 64, 67, 0.15);\n",
              "      fill: #174EA6;\n",
              "    }\n",
              "\n",
              "    [theme=dark] .colab-df-convert {\n",
              "      background-color: #3B4455;\n",
              "      fill: #D2E3FC;\n",
              "    }\n",
              "\n",
              "    [theme=dark] .colab-df-convert:hover {\n",
              "      background-color: #434B5C;\n",
              "      box-shadow: 0px 1px 3px 1px rgba(0, 0, 0, 0.15);\n",
              "      filter: drop-shadow(0px 1px 2px rgba(0, 0, 0, 0.3));\n",
              "      fill: #FFFFFF;\n",
              "    }\n",
              "  </style>\n",
              "\n",
              "      <script>\n",
              "        const buttonEl =\n",
              "          document.querySelector('#df-e49cf37e-9b96-426b-8991-1b6542e48c09 button.colab-df-convert');\n",
              "        buttonEl.style.display =\n",
              "          google.colab.kernel.accessAllowed ? 'block' : 'none';\n",
              "\n",
              "        async function convertToInteractive(key) {\n",
              "          const element = document.querySelector('#df-e49cf37e-9b96-426b-8991-1b6542e48c09');\n",
              "          const dataTable =\n",
              "            await google.colab.kernel.invokeFunction('convertToInteractive',\n",
              "                                                     [key], {});\n",
              "          if (!dataTable) return;\n",
              "\n",
              "          const docLinkHtml = 'Like what you see? Visit the ' +\n",
              "            '<a target=\"_blank\" href=https://colab.research.google.com/notebooks/data_table.ipynb>data table notebook</a>'\n",
              "            + ' to learn more about interactive tables.';\n",
              "          element.innerHTML = '';\n",
              "          dataTable['output_type'] = 'display_data';\n",
              "          await google.colab.output.renderOutput(dataTable, element);\n",
              "          const docLink = document.createElement('div');\n",
              "          docLink.innerHTML = docLinkHtml;\n",
              "          element.appendChild(docLink);\n",
              "        }\n",
              "      </script>\n",
              "    </div>\n",
              "  </div>\n",
              "  "
            ]
          },
          "metadata": {},
          "execution_count": 53
        }
      ]
    },
    {
      "cell_type": "code",
      "source": [
        "updated_df['Choosedate'].value_counts()"
      ],
      "metadata": {
        "colab": {
          "base_uri": "https://localhost:8080/"
        },
        "id": "av9HabF1_OFG",
        "outputId": "02442899-fb26-4e83-fa02-e747820407fd"
      },
      "execution_count": null,
      "outputs": [
        {
          "output_type": "execute_result",
          "data": {
            "text/plain": [
              "0             5\n",
              "2022-10-17    4\n",
              "2022-07-14    3\n",
              "2022-10-13    2\n",
              "2022-10-03    2\n",
              "2022-10-14    1\n",
              "2022-10-18    1\n",
              "2022-08-29    1\n",
              "2022-09-05    1\n",
              "2022-09-21    1\n",
              "Name: Choosedate, dtype: int64"
            ]
          },
          "metadata": {},
          "execution_count": 54
        }
      ]
    },
    {
      "cell_type": "code",
      "source": [
        "# df without countdate,\n",
        "df = pd.DataFrame(worksheet.get_all_records())"
      ],
      "metadata": {
        "id": "CbLLTe7YL3al"
      },
      "execution_count": null,
      "outputs": []
    },
    {
      "cell_type": "code",
      "source": [
        "updated_df.loc[(updated_df['List'] == 1)]"
      ],
      "metadata": {
        "id": "b8NqJ6gyZ4nY",
        "colab": {
          "base_uri": "https://localhost:8080/"
        },
        "outputId": "3af64637-aaf0-435e-8029-b2b90eb70b71"
      },
      "execution_count": null,
      "outputs": [
        {
          "output_type": "execute_result",
          "data": {
            "text/plain": [
              "          Date                        ID  \\\n",
              "5   2022-10-19  634ec4a688887e00fb3f7e2f   \n",
              "16  2022-10-19  634d8b52d13e050127c65863   \n",
              "17  2022-10-19  634d8b52d13e050127c65863   \n",
              "\n",
              "                                                 Card  List Countworkday  \\\n",
              "5   Apprentice Master Technician - Public Works-Fl...     1         None   \n",
              "16             Sports Specialist - Parks | 10-17-2022     1         None   \n",
              "17             Sports Specialist - Parks | 10-17-2022     1         None   \n",
              "\n",
              "    Choosedate Archived Valid  \n",
              "5   2022-10-18     None  None  \n",
              "16  2022-10-17     None  None  \n",
              "17  2022-10-17     None  None  "
            ],
            "text/html": [
              "\n",
              "  <div id=\"df-94dbadea-2a6a-4965-8c1c-fcc727efee67\">\n",
              "    <div class=\"colab-df-container\">\n",
              "      <div>\n",
              "<style scoped>\n",
              "    .dataframe tbody tr th:only-of-type {\n",
              "        vertical-align: middle;\n",
              "    }\n",
              "\n",
              "    .dataframe tbody tr th {\n",
              "        vertical-align: top;\n",
              "    }\n",
              "\n",
              "    .dataframe thead th {\n",
              "        text-align: right;\n",
              "    }\n",
              "</style>\n",
              "<table border=\"1\" class=\"dataframe\">\n",
              "  <thead>\n",
              "    <tr style=\"text-align: right;\">\n",
              "      <th></th>\n",
              "      <th>Date</th>\n",
              "      <th>ID</th>\n",
              "      <th>Card</th>\n",
              "      <th>List</th>\n",
              "      <th>Countworkday</th>\n",
              "      <th>Choosedate</th>\n",
              "      <th>Archived</th>\n",
              "      <th>Valid</th>\n",
              "    </tr>\n",
              "  </thead>\n",
              "  <tbody>\n",
              "    <tr>\n",
              "      <th>5</th>\n",
              "      <td>2022-10-19</td>\n",
              "      <td>634ec4a688887e00fb3f7e2f</td>\n",
              "      <td>Apprentice Master Technician - Public Works-Fl...</td>\n",
              "      <td>1</td>\n",
              "      <td>None</td>\n",
              "      <td>2022-10-18</td>\n",
              "      <td>None</td>\n",
              "      <td>None</td>\n",
              "    </tr>\n",
              "    <tr>\n",
              "      <th>16</th>\n",
              "      <td>2022-10-19</td>\n",
              "      <td>634d8b52d13e050127c65863</td>\n",
              "      <td>Sports Specialist - Parks | 10-17-2022</td>\n",
              "      <td>1</td>\n",
              "      <td>None</td>\n",
              "      <td>2022-10-17</td>\n",
              "      <td>None</td>\n",
              "      <td>None</td>\n",
              "    </tr>\n",
              "    <tr>\n",
              "      <th>17</th>\n",
              "      <td>2022-10-19</td>\n",
              "      <td>634d8b52d13e050127c65863</td>\n",
              "      <td>Sports Specialist - Parks | 10-17-2022</td>\n",
              "      <td>1</td>\n",
              "      <td>None</td>\n",
              "      <td>2022-10-17</td>\n",
              "      <td>None</td>\n",
              "      <td>None</td>\n",
              "    </tr>\n",
              "  </tbody>\n",
              "</table>\n",
              "</div>\n",
              "      <button class=\"colab-df-convert\" onclick=\"convertToInteractive('df-94dbadea-2a6a-4965-8c1c-fcc727efee67')\"\n",
              "              title=\"Convert this dataframe to an interactive table.\"\n",
              "              style=\"display:none;\">\n",
              "        \n",
              "  <svg xmlns=\"http://www.w3.org/2000/svg\" height=\"24px\"viewBox=\"0 0 24 24\"\n",
              "       width=\"24px\">\n",
              "    <path d=\"M0 0h24v24H0V0z\" fill=\"none\"/>\n",
              "    <path d=\"M18.56 5.44l.94 2.06.94-2.06 2.06-.94-2.06-.94-.94-2.06-.94 2.06-2.06.94zm-11 1L8.5 8.5l.94-2.06 2.06-.94-2.06-.94L8.5 2.5l-.94 2.06-2.06.94zm10 10l.94 2.06.94-2.06 2.06-.94-2.06-.94-.94-2.06-.94 2.06-2.06.94z\"/><path d=\"M17.41 7.96l-1.37-1.37c-.4-.4-.92-.59-1.43-.59-.52 0-1.04.2-1.43.59L10.3 9.45l-7.72 7.72c-.78.78-.78 2.05 0 2.83L4 21.41c.39.39.9.59 1.41.59.51 0 1.02-.2 1.41-.59l7.78-7.78 2.81-2.81c.8-.78.8-2.07 0-2.86zM5.41 20L4 18.59l7.72-7.72 1.47 1.35L5.41 20z\"/>\n",
              "  </svg>\n",
              "      </button>\n",
              "      \n",
              "  <style>\n",
              "    .colab-df-container {\n",
              "      display:flex;\n",
              "      flex-wrap:wrap;\n",
              "      gap: 12px;\n",
              "    }\n",
              "\n",
              "    .colab-df-convert {\n",
              "      background-color: #E8F0FE;\n",
              "      border: none;\n",
              "      border-radius: 50%;\n",
              "      cursor: pointer;\n",
              "      display: none;\n",
              "      fill: #1967D2;\n",
              "      height: 32px;\n",
              "      padding: 0 0 0 0;\n",
              "      width: 32px;\n",
              "    }\n",
              "\n",
              "    .colab-df-convert:hover {\n",
              "      background-color: #E2EBFA;\n",
              "      box-shadow: 0px 1px 2px rgba(60, 64, 67, 0.3), 0px 1px 3px 1px rgba(60, 64, 67, 0.15);\n",
              "      fill: #174EA6;\n",
              "    }\n",
              "\n",
              "    [theme=dark] .colab-df-convert {\n",
              "      background-color: #3B4455;\n",
              "      fill: #D2E3FC;\n",
              "    }\n",
              "\n",
              "    [theme=dark] .colab-df-convert:hover {\n",
              "      background-color: #434B5C;\n",
              "      box-shadow: 0px 1px 3px 1px rgba(0, 0, 0, 0.15);\n",
              "      filter: drop-shadow(0px 1px 2px rgba(0, 0, 0, 0.3));\n",
              "      fill: #FFFFFF;\n",
              "    }\n",
              "  </style>\n",
              "\n",
              "      <script>\n",
              "        const buttonEl =\n",
              "          document.querySelector('#df-94dbadea-2a6a-4965-8c1c-fcc727efee67 button.colab-df-convert');\n",
              "        buttonEl.style.display =\n",
              "          google.colab.kernel.accessAllowed ? 'block' : 'none';\n",
              "\n",
              "        async function convertToInteractive(key) {\n",
              "          const element = document.querySelector('#df-94dbadea-2a6a-4965-8c1c-fcc727efee67');\n",
              "          const dataTable =\n",
              "            await google.colab.kernel.invokeFunction('convertToInteractive',\n",
              "                                                     [key], {});\n",
              "          if (!dataTable) return;\n",
              "\n",
              "          const docLinkHtml = 'Like what you see? Visit the ' +\n",
              "            '<a target=\"_blank\" href=https://colab.research.google.com/notebooks/data_table.ipynb>data table notebook</a>'\n",
              "            + ' to learn more about interactive tables.';\n",
              "          element.innerHTML = '';\n",
              "          dataTable['output_type'] = 'display_data';\n",
              "          await google.colab.output.renderOutput(dataTable, element);\n",
              "          const docLink = document.createElement('div');\n",
              "          docLink.innerHTML = docLinkHtml;\n",
              "          element.appendChild(docLink);\n",
              "        }\n",
              "      </script>\n",
              "    </div>\n",
              "  </div>\n",
              "  "
            ]
          },
          "metadata": {},
          "execution_count": 56
        }
      ]
    },
    {
      "cell_type": "markdown",
      "source": [
        "###Count workday"
      ],
      "metadata": {
        "id": "qa1BQnaIZJiN"
      }
    },
    {
      "cell_type": "code",
      "source": [
        "from pandas.core.computation.scope import Timestamp\n",
        "import datetime\n",
        "import numpy as np\n",
        "from datetime import timedelta "
      ],
      "metadata": {
        "id": "ueuxOeOViX9j"
      },
      "execution_count": null,
      "outputs": []
    },
    {
      "cell_type": "code",
      "source": [
        "def count_workday(i):\n",
        "  choosedate = pd.Timestamp(updated_df['Choosedate'][i]).date()\n",
        "  date = pd.Timestamp(updated_df['Date'][i]).date()\n",
        "  holiday = ['2022-01-03' ,'2022-01-17', '2022-04-15', '2022-05-03', '2022-05-30', '2022-06-20', '2022-07-04', '2022-09-05', '2022-11-08', '2022-11-11', '2022-11-24', '2022-11-25', '2022-12-26']\n",
        "\n",
        "  start = choosedate + timedelta(days=1)\n",
        "  end =  date + timedelta(days=1)\n",
        "  workday = np.busday_count(start, end, holidays= holiday)\n",
        "  return workday"
      ],
      "metadata": {
        "id": "GztmyStPioeV"
      },
      "execution_count": null,
      "outputs": []
    },
    {
      "cell_type": "code",
      "source": [
        "f = lambda x: x\n",
        "df_nums = [f(x) for x in range(len(updated_df))]"
      ],
      "metadata": {
        "id": "eE8O1joPiqGq"
      },
      "execution_count": null,
      "outputs": []
    },
    {
      "cell_type": "code",
      "source": [
        "updated_df['Countworkday'] = list(map(count_workday,[f(x) for x in df_nums] ))"
      ],
      "metadata": {
        "id": "XQMzySYRirkk"
      },
      "execution_count": null,
      "outputs": []
    },
    {
      "cell_type": "code",
      "source": [
        "updated_df.head()"
      ],
      "metadata": {
        "colab": {
          "base_uri": "https://localhost:8080/"
        },
        "id": "0jf5fvmtiuYh",
        "outputId": "07b23eb1-1077-4ec7-fe44-677a4b9ef39c"
      },
      "execution_count": null,
      "outputs": [
        {
          "output_type": "execute_result",
          "data": {
            "text/plain": [
              "         Date                        ID  \\\n",
              "0  2022-10-19  634851ea49b3ac03c3b295e6   \n",
              "1  2022-10-19  6349b04e5c8d0c01951dfc8e   \n",
              "2  2022-10-19  634851e8886edb0187e14fa9   \n",
              "3  2022-10-19  633af5f5bf2dda00d310c6f3   \n",
              "4  2022-10-19  633af5f5bf2dda00d310c6f3   \n",
              "\n",
              "                                                Card  List  Countworkday  \\\n",
              "0  Laborer (4) - Utilities-Transmission and Distr...     4             4   \n",
              "1  Customer Relations Representative - Public Wor...     4             3   \n",
              "2  TFT Customer Service and Security Specialist (...     4             4   \n",
              "3  Laborer Operations Division/Grounds Maintenanc...     5            12   \n",
              "4  Laborer Operations Division/Grounds Maintenanc...     6            12   \n",
              "\n",
              "   Choosedate Archived Valid  \n",
              "0  2022-10-13     None  None  \n",
              "1  2022-10-14     None  None  \n",
              "2  2022-10-13     None  None  \n",
              "3  2022-10-03     None  None  \n",
              "4  2022-10-03     None  None  "
            ],
            "text/html": [
              "\n",
              "  <div id=\"df-72f30c6b-fc85-4499-b016-441e3f27c146\">\n",
              "    <div class=\"colab-df-container\">\n",
              "      <div>\n",
              "<style scoped>\n",
              "    .dataframe tbody tr th:only-of-type {\n",
              "        vertical-align: middle;\n",
              "    }\n",
              "\n",
              "    .dataframe tbody tr th {\n",
              "        vertical-align: top;\n",
              "    }\n",
              "\n",
              "    .dataframe thead th {\n",
              "        text-align: right;\n",
              "    }\n",
              "</style>\n",
              "<table border=\"1\" class=\"dataframe\">\n",
              "  <thead>\n",
              "    <tr style=\"text-align: right;\">\n",
              "      <th></th>\n",
              "      <th>Date</th>\n",
              "      <th>ID</th>\n",
              "      <th>Card</th>\n",
              "      <th>List</th>\n",
              "      <th>Countworkday</th>\n",
              "      <th>Choosedate</th>\n",
              "      <th>Archived</th>\n",
              "      <th>Valid</th>\n",
              "    </tr>\n",
              "  </thead>\n",
              "  <tbody>\n",
              "    <tr>\n",
              "      <th>0</th>\n",
              "      <td>2022-10-19</td>\n",
              "      <td>634851ea49b3ac03c3b295e6</td>\n",
              "      <td>Laborer (4) - Utilities-Transmission and Distr...</td>\n",
              "      <td>4</td>\n",
              "      <td>4</td>\n",
              "      <td>2022-10-13</td>\n",
              "      <td>None</td>\n",
              "      <td>None</td>\n",
              "    </tr>\n",
              "    <tr>\n",
              "      <th>1</th>\n",
              "      <td>2022-10-19</td>\n",
              "      <td>6349b04e5c8d0c01951dfc8e</td>\n",
              "      <td>Customer Relations Representative - Public Wor...</td>\n",
              "      <td>4</td>\n",
              "      <td>3</td>\n",
              "      <td>2022-10-14</td>\n",
              "      <td>None</td>\n",
              "      <td>None</td>\n",
              "    </tr>\n",
              "    <tr>\n",
              "      <th>2</th>\n",
              "      <td>2022-10-19</td>\n",
              "      <td>634851e8886edb0187e14fa9</td>\n",
              "      <td>TFT Customer Service and Security Specialist (...</td>\n",
              "      <td>4</td>\n",
              "      <td>4</td>\n",
              "      <td>2022-10-13</td>\n",
              "      <td>None</td>\n",
              "      <td>None</td>\n",
              "    </tr>\n",
              "    <tr>\n",
              "      <th>3</th>\n",
              "      <td>2022-10-19</td>\n",
              "      <td>633af5f5bf2dda00d310c6f3</td>\n",
              "      <td>Laborer Operations Division/Grounds Maintenanc...</td>\n",
              "      <td>5</td>\n",
              "      <td>12</td>\n",
              "      <td>2022-10-03</td>\n",
              "      <td>None</td>\n",
              "      <td>None</td>\n",
              "    </tr>\n",
              "    <tr>\n",
              "      <th>4</th>\n",
              "      <td>2022-10-19</td>\n",
              "      <td>633af5f5bf2dda00d310c6f3</td>\n",
              "      <td>Laborer Operations Division/Grounds Maintenanc...</td>\n",
              "      <td>6</td>\n",
              "      <td>12</td>\n",
              "      <td>2022-10-03</td>\n",
              "      <td>None</td>\n",
              "      <td>None</td>\n",
              "    </tr>\n",
              "  </tbody>\n",
              "</table>\n",
              "</div>\n",
              "      <button class=\"colab-df-convert\" onclick=\"convertToInteractive('df-72f30c6b-fc85-4499-b016-441e3f27c146')\"\n",
              "              title=\"Convert this dataframe to an interactive table.\"\n",
              "              style=\"display:none;\">\n",
              "        \n",
              "  <svg xmlns=\"http://www.w3.org/2000/svg\" height=\"24px\"viewBox=\"0 0 24 24\"\n",
              "       width=\"24px\">\n",
              "    <path d=\"M0 0h24v24H0V0z\" fill=\"none\"/>\n",
              "    <path d=\"M18.56 5.44l.94 2.06.94-2.06 2.06-.94-2.06-.94-.94-2.06-.94 2.06-2.06.94zm-11 1L8.5 8.5l.94-2.06 2.06-.94-2.06-.94L8.5 2.5l-.94 2.06-2.06.94zm10 10l.94 2.06.94-2.06 2.06-.94-2.06-.94-.94-2.06-.94 2.06-2.06.94z\"/><path d=\"M17.41 7.96l-1.37-1.37c-.4-.4-.92-.59-1.43-.59-.52 0-1.04.2-1.43.59L10.3 9.45l-7.72 7.72c-.78.78-.78 2.05 0 2.83L4 21.41c.39.39.9.59 1.41.59.51 0 1.02-.2 1.41-.59l7.78-7.78 2.81-2.81c.8-.78.8-2.07 0-2.86zM5.41 20L4 18.59l7.72-7.72 1.47 1.35L5.41 20z\"/>\n",
              "  </svg>\n",
              "      </button>\n",
              "      \n",
              "  <style>\n",
              "    .colab-df-container {\n",
              "      display:flex;\n",
              "      flex-wrap:wrap;\n",
              "      gap: 12px;\n",
              "    }\n",
              "\n",
              "    .colab-df-convert {\n",
              "      background-color: #E8F0FE;\n",
              "      border: none;\n",
              "      border-radius: 50%;\n",
              "      cursor: pointer;\n",
              "      display: none;\n",
              "      fill: #1967D2;\n",
              "      height: 32px;\n",
              "      padding: 0 0 0 0;\n",
              "      width: 32px;\n",
              "    }\n",
              "\n",
              "    .colab-df-convert:hover {\n",
              "      background-color: #E2EBFA;\n",
              "      box-shadow: 0px 1px 2px rgba(60, 64, 67, 0.3), 0px 1px 3px 1px rgba(60, 64, 67, 0.15);\n",
              "      fill: #174EA6;\n",
              "    }\n",
              "\n",
              "    [theme=dark] .colab-df-convert {\n",
              "      background-color: #3B4455;\n",
              "      fill: #D2E3FC;\n",
              "    }\n",
              "\n",
              "    [theme=dark] .colab-df-convert:hover {\n",
              "      background-color: #434B5C;\n",
              "      box-shadow: 0px 1px 3px 1px rgba(0, 0, 0, 0.15);\n",
              "      filter: drop-shadow(0px 1px 2px rgba(0, 0, 0, 0.3));\n",
              "      fill: #FFFFFF;\n",
              "    }\n",
              "  </style>\n",
              "\n",
              "      <script>\n",
              "        const buttonEl =\n",
              "          document.querySelector('#df-72f30c6b-fc85-4499-b016-441e3f27c146 button.colab-df-convert');\n",
              "        buttonEl.style.display =\n",
              "          google.colab.kernel.accessAllowed ? 'block' : 'none';\n",
              "\n",
              "        async function convertToInteractive(key) {\n",
              "          const element = document.querySelector('#df-72f30c6b-fc85-4499-b016-441e3f27c146');\n",
              "          const dataTable =\n",
              "            await google.colab.kernel.invokeFunction('convertToInteractive',\n",
              "                                                     [key], {});\n",
              "          if (!dataTable) return;\n",
              "\n",
              "          const docLinkHtml = 'Like what you see? Visit the ' +\n",
              "            '<a target=\"_blank\" href=https://colab.research.google.com/notebooks/data_table.ipynb>data table notebook</a>'\n",
              "            + ' to learn more about interactive tables.';\n",
              "          element.innerHTML = '';\n",
              "          dataTable['output_type'] = 'display_data';\n",
              "          await google.colab.output.renderOutput(dataTable, element);\n",
              "          const docLink = document.createElement('div');\n",
              "          docLink.innerHTML = docLinkHtml;\n",
              "          element.appendChild(docLink);\n",
              "        }\n",
              "      </script>\n",
              "    </div>\n",
              "  </div>\n",
              "  "
            ]
          },
          "metadata": {},
          "execution_count": 61
        }
      ]
    },
    {
      "cell_type": "markdown",
      "source": [
        "##SAVE to google"
      ],
      "metadata": {
        "id": "lzfc_wgXk2pV"
      }
    },
    {
      "cell_type": "code",
      "source": [
        "# for c,i in enumerate(updated_df['Countworkday']):\n",
        "#       index = length_df\n",
        "#       col=index + c\n",
        "#       countwork_day = i\n",
        "#       choosing_day = str(pd.Timestamp(updated_df['Choosedate'][c]).date())\n",
        "#       worksheet.update_cell(col,5, countwork_day)\n",
        "#       # worksheet.update_cell(col,6, choosing_day)\n",
        "#       print(\"cols\",col,choosing_day,type(choosing_day))\n"
      ],
      "metadata": {
        "id": "FFjORXy8jvS0"
      },
      "execution_count": null,
      "outputs": []
    },
    {
      "cell_type": "code",
      "source": [
        "updated_df.iloc[100:]"
      ],
      "metadata": {
        "colab": {
          "base_uri": "https://localhost:8080/"
        },
        "id": "hVmYNxXcup-B",
        "outputId": "97718608-0dc5-4cac-b5da-b3b6bd9c460c"
      },
      "execution_count": null,
      "outputs": [
        {
          "output_type": "execute_result",
          "data": {
            "text/plain": [
              "Empty DataFrame\n",
              "Columns: [Date, ID, Card, List, Countworkday, Choosedate, Archived, Valid]\n",
              "Index: []"
            ],
            "text/html": [
              "\n",
              "  <div id=\"df-06712fec-da2f-4a17-81ce-b69519686a4c\">\n",
              "    <div class=\"colab-df-container\">\n",
              "      <div>\n",
              "<style scoped>\n",
              "    .dataframe tbody tr th:only-of-type {\n",
              "        vertical-align: middle;\n",
              "    }\n",
              "\n",
              "    .dataframe tbody tr th {\n",
              "        vertical-align: top;\n",
              "    }\n",
              "\n",
              "    .dataframe thead th {\n",
              "        text-align: right;\n",
              "    }\n",
              "</style>\n",
              "<table border=\"1\" class=\"dataframe\">\n",
              "  <thead>\n",
              "    <tr style=\"text-align: right;\">\n",
              "      <th></th>\n",
              "      <th>Date</th>\n",
              "      <th>ID</th>\n",
              "      <th>Card</th>\n",
              "      <th>List</th>\n",
              "      <th>Countworkday</th>\n",
              "      <th>Choosedate</th>\n",
              "      <th>Archived</th>\n",
              "      <th>Valid</th>\n",
              "    </tr>\n",
              "  </thead>\n",
              "  <tbody>\n",
              "  </tbody>\n",
              "</table>\n",
              "</div>\n",
              "      <button class=\"colab-df-convert\" onclick=\"convertToInteractive('df-06712fec-da2f-4a17-81ce-b69519686a4c')\"\n",
              "              title=\"Convert this dataframe to an interactive table.\"\n",
              "              style=\"display:none;\">\n",
              "        \n",
              "  <svg xmlns=\"http://www.w3.org/2000/svg\" height=\"24px\"viewBox=\"0 0 24 24\"\n",
              "       width=\"24px\">\n",
              "    <path d=\"M0 0h24v24H0V0z\" fill=\"none\"/>\n",
              "    <path d=\"M18.56 5.44l.94 2.06.94-2.06 2.06-.94-2.06-.94-.94-2.06-.94 2.06-2.06.94zm-11 1L8.5 8.5l.94-2.06 2.06-.94-2.06-.94L8.5 2.5l-.94 2.06-2.06.94zm10 10l.94 2.06.94-2.06 2.06-.94-2.06-.94-.94-2.06-.94 2.06-2.06.94z\"/><path d=\"M17.41 7.96l-1.37-1.37c-.4-.4-.92-.59-1.43-.59-.52 0-1.04.2-1.43.59L10.3 9.45l-7.72 7.72c-.78.78-.78 2.05 0 2.83L4 21.41c.39.39.9.59 1.41.59.51 0 1.02-.2 1.41-.59l7.78-7.78 2.81-2.81c.8-.78.8-2.07 0-2.86zM5.41 20L4 18.59l7.72-7.72 1.47 1.35L5.41 20z\"/>\n",
              "  </svg>\n",
              "      </button>\n",
              "      \n",
              "  <style>\n",
              "    .colab-df-container {\n",
              "      display:flex;\n",
              "      flex-wrap:wrap;\n",
              "      gap: 12px;\n",
              "    }\n",
              "\n",
              "    .colab-df-convert {\n",
              "      background-color: #E8F0FE;\n",
              "      border: none;\n",
              "      border-radius: 50%;\n",
              "      cursor: pointer;\n",
              "      display: none;\n",
              "      fill: #1967D2;\n",
              "      height: 32px;\n",
              "      padding: 0 0 0 0;\n",
              "      width: 32px;\n",
              "    }\n",
              "\n",
              "    .colab-df-convert:hover {\n",
              "      background-color: #E2EBFA;\n",
              "      box-shadow: 0px 1px 2px rgba(60, 64, 67, 0.3), 0px 1px 3px 1px rgba(60, 64, 67, 0.15);\n",
              "      fill: #174EA6;\n",
              "    }\n",
              "\n",
              "    [theme=dark] .colab-df-convert {\n",
              "      background-color: #3B4455;\n",
              "      fill: #D2E3FC;\n",
              "    }\n",
              "\n",
              "    [theme=dark] .colab-df-convert:hover {\n",
              "      background-color: #434B5C;\n",
              "      box-shadow: 0px 1px 3px 1px rgba(0, 0, 0, 0.15);\n",
              "      filter: drop-shadow(0px 1px 2px rgba(0, 0, 0, 0.3));\n",
              "      fill: #FFFFFF;\n",
              "    }\n",
              "  </style>\n",
              "\n",
              "      <script>\n",
              "        const buttonEl =\n",
              "          document.querySelector('#df-06712fec-da2f-4a17-81ce-b69519686a4c button.colab-df-convert');\n",
              "        buttonEl.style.display =\n",
              "          google.colab.kernel.accessAllowed ? 'block' : 'none';\n",
              "\n",
              "        async function convertToInteractive(key) {\n",
              "          const element = document.querySelector('#df-06712fec-da2f-4a17-81ce-b69519686a4c');\n",
              "          const dataTable =\n",
              "            await google.colab.kernel.invokeFunction('convertToInteractive',\n",
              "                                                     [key], {});\n",
              "          if (!dataTable) return;\n",
              "\n",
              "          const docLinkHtml = 'Like what you see? Visit the ' +\n",
              "            '<a target=\"_blank\" href=https://colab.research.google.com/notebooks/data_table.ipynb>data table notebook</a>'\n",
              "            + ' to learn more about interactive tables.';\n",
              "          element.innerHTML = '';\n",
              "          dataTable['output_type'] = 'display_data';\n",
              "          await google.colab.output.renderOutput(dataTable, element);\n",
              "          const docLink = document.createElement('div');\n",
              "          docLink.innerHTML = docLinkHtml;\n",
              "          element.appendChild(docLink);\n",
              "        }\n",
              "      </script>\n",
              "    </div>\n",
              "  </div>\n",
              "  "
            ]
          },
          "metadata": {},
          "execution_count": 63
        }
      ]
    },
    {
      "cell_type": "code",
      "source": [
        "updated_df.iloc[:,-4:]"
      ],
      "metadata": {
        "colab": {
          "base_uri": "https://localhost:8080/"
        },
        "id": "zTwgv2UqwJlh",
        "outputId": "092b886d-d161-40ab-c122-d2ec98a83bc1"
      },
      "execution_count": null,
      "outputs": [
        {
          "output_type": "execute_result",
          "data": {
            "text/plain": [
              "    Countworkday  Choosedate Archived Valid\n",
              "0              4  2022-10-13     None  None\n",
              "1              3  2022-10-14     None  None\n",
              "2              4  2022-10-13     None  None\n",
              "3             12  2022-10-03     None  None\n",
              "4             12  2022-10-03     None  None\n",
              "5              1  2022-10-18     None  None\n",
              "6             36  2022-08-29     None  None\n",
              "7             32  2022-09-05     None  None\n",
              "8          13766           0     None  None\n",
              "9          13766           0     None  None\n",
              "10            68  2022-07-14     None  None\n",
              "11         13766           0     None  None\n",
              "12         13766           0     None  None\n",
              "13            20  2022-09-21     None  None\n",
              "14         13766           0     None  None\n",
              "15             2  2022-10-17     None  None\n",
              "16             2  2022-10-17     None  None\n",
              "17             2  2022-10-17     None  None\n",
              "18             2  2022-10-17     None  None\n",
              "19            68  2022-07-14     None  None\n",
              "20            68  2022-07-14     None  None"
            ],
            "text/html": [
              "\n",
              "  <div id=\"df-f61db846-381c-4bd8-8d80-cf0554c2b39f\">\n",
              "    <div class=\"colab-df-container\">\n",
              "      <div>\n",
              "<style scoped>\n",
              "    .dataframe tbody tr th:only-of-type {\n",
              "        vertical-align: middle;\n",
              "    }\n",
              "\n",
              "    .dataframe tbody tr th {\n",
              "        vertical-align: top;\n",
              "    }\n",
              "\n",
              "    .dataframe thead th {\n",
              "        text-align: right;\n",
              "    }\n",
              "</style>\n",
              "<table border=\"1\" class=\"dataframe\">\n",
              "  <thead>\n",
              "    <tr style=\"text-align: right;\">\n",
              "      <th></th>\n",
              "      <th>Countworkday</th>\n",
              "      <th>Choosedate</th>\n",
              "      <th>Archived</th>\n",
              "      <th>Valid</th>\n",
              "    </tr>\n",
              "  </thead>\n",
              "  <tbody>\n",
              "    <tr>\n",
              "      <th>0</th>\n",
              "      <td>4</td>\n",
              "      <td>2022-10-13</td>\n",
              "      <td>None</td>\n",
              "      <td>None</td>\n",
              "    </tr>\n",
              "    <tr>\n",
              "      <th>1</th>\n",
              "      <td>3</td>\n",
              "      <td>2022-10-14</td>\n",
              "      <td>None</td>\n",
              "      <td>None</td>\n",
              "    </tr>\n",
              "    <tr>\n",
              "      <th>2</th>\n",
              "      <td>4</td>\n",
              "      <td>2022-10-13</td>\n",
              "      <td>None</td>\n",
              "      <td>None</td>\n",
              "    </tr>\n",
              "    <tr>\n",
              "      <th>3</th>\n",
              "      <td>12</td>\n",
              "      <td>2022-10-03</td>\n",
              "      <td>None</td>\n",
              "      <td>None</td>\n",
              "    </tr>\n",
              "    <tr>\n",
              "      <th>4</th>\n",
              "      <td>12</td>\n",
              "      <td>2022-10-03</td>\n",
              "      <td>None</td>\n",
              "      <td>None</td>\n",
              "    </tr>\n",
              "    <tr>\n",
              "      <th>5</th>\n",
              "      <td>1</td>\n",
              "      <td>2022-10-18</td>\n",
              "      <td>None</td>\n",
              "      <td>None</td>\n",
              "    </tr>\n",
              "    <tr>\n",
              "      <th>6</th>\n",
              "      <td>36</td>\n",
              "      <td>2022-08-29</td>\n",
              "      <td>None</td>\n",
              "      <td>None</td>\n",
              "    </tr>\n",
              "    <tr>\n",
              "      <th>7</th>\n",
              "      <td>32</td>\n",
              "      <td>2022-09-05</td>\n",
              "      <td>None</td>\n",
              "      <td>None</td>\n",
              "    </tr>\n",
              "    <tr>\n",
              "      <th>8</th>\n",
              "      <td>13766</td>\n",
              "      <td>0</td>\n",
              "      <td>None</td>\n",
              "      <td>None</td>\n",
              "    </tr>\n",
              "    <tr>\n",
              "      <th>9</th>\n",
              "      <td>13766</td>\n",
              "      <td>0</td>\n",
              "      <td>None</td>\n",
              "      <td>None</td>\n",
              "    </tr>\n",
              "    <tr>\n",
              "      <th>10</th>\n",
              "      <td>68</td>\n",
              "      <td>2022-07-14</td>\n",
              "      <td>None</td>\n",
              "      <td>None</td>\n",
              "    </tr>\n",
              "    <tr>\n",
              "      <th>11</th>\n",
              "      <td>13766</td>\n",
              "      <td>0</td>\n",
              "      <td>None</td>\n",
              "      <td>None</td>\n",
              "    </tr>\n",
              "    <tr>\n",
              "      <th>12</th>\n",
              "      <td>13766</td>\n",
              "      <td>0</td>\n",
              "      <td>None</td>\n",
              "      <td>None</td>\n",
              "    </tr>\n",
              "    <tr>\n",
              "      <th>13</th>\n",
              "      <td>20</td>\n",
              "      <td>2022-09-21</td>\n",
              "      <td>None</td>\n",
              "      <td>None</td>\n",
              "    </tr>\n",
              "    <tr>\n",
              "      <th>14</th>\n",
              "      <td>13766</td>\n",
              "      <td>0</td>\n",
              "      <td>None</td>\n",
              "      <td>None</td>\n",
              "    </tr>\n",
              "    <tr>\n",
              "      <th>15</th>\n",
              "      <td>2</td>\n",
              "      <td>2022-10-17</td>\n",
              "      <td>None</td>\n",
              "      <td>None</td>\n",
              "    </tr>\n",
              "    <tr>\n",
              "      <th>16</th>\n",
              "      <td>2</td>\n",
              "      <td>2022-10-17</td>\n",
              "      <td>None</td>\n",
              "      <td>None</td>\n",
              "    </tr>\n",
              "    <tr>\n",
              "      <th>17</th>\n",
              "      <td>2</td>\n",
              "      <td>2022-10-17</td>\n",
              "      <td>None</td>\n",
              "      <td>None</td>\n",
              "    </tr>\n",
              "    <tr>\n",
              "      <th>18</th>\n",
              "      <td>2</td>\n",
              "      <td>2022-10-17</td>\n",
              "      <td>None</td>\n",
              "      <td>None</td>\n",
              "    </tr>\n",
              "    <tr>\n",
              "      <th>19</th>\n",
              "      <td>68</td>\n",
              "      <td>2022-07-14</td>\n",
              "      <td>None</td>\n",
              "      <td>None</td>\n",
              "    </tr>\n",
              "    <tr>\n",
              "      <th>20</th>\n",
              "      <td>68</td>\n",
              "      <td>2022-07-14</td>\n",
              "      <td>None</td>\n",
              "      <td>None</td>\n",
              "    </tr>\n",
              "  </tbody>\n",
              "</table>\n",
              "</div>\n",
              "      <button class=\"colab-df-convert\" onclick=\"convertToInteractive('df-f61db846-381c-4bd8-8d80-cf0554c2b39f')\"\n",
              "              title=\"Convert this dataframe to an interactive table.\"\n",
              "              style=\"display:none;\">\n",
              "        \n",
              "  <svg xmlns=\"http://www.w3.org/2000/svg\" height=\"24px\"viewBox=\"0 0 24 24\"\n",
              "       width=\"24px\">\n",
              "    <path d=\"M0 0h24v24H0V0z\" fill=\"none\"/>\n",
              "    <path d=\"M18.56 5.44l.94 2.06.94-2.06 2.06-.94-2.06-.94-.94-2.06-.94 2.06-2.06.94zm-11 1L8.5 8.5l.94-2.06 2.06-.94-2.06-.94L8.5 2.5l-.94 2.06-2.06.94zm10 10l.94 2.06.94-2.06 2.06-.94-2.06-.94-.94-2.06-.94 2.06-2.06.94z\"/><path d=\"M17.41 7.96l-1.37-1.37c-.4-.4-.92-.59-1.43-.59-.52 0-1.04.2-1.43.59L10.3 9.45l-7.72 7.72c-.78.78-.78 2.05 0 2.83L4 21.41c.39.39.9.59 1.41.59.51 0 1.02-.2 1.41-.59l7.78-7.78 2.81-2.81c.8-.78.8-2.07 0-2.86zM5.41 20L4 18.59l7.72-7.72 1.47 1.35L5.41 20z\"/>\n",
              "  </svg>\n",
              "      </button>\n",
              "      \n",
              "  <style>\n",
              "    .colab-df-container {\n",
              "      display:flex;\n",
              "      flex-wrap:wrap;\n",
              "      gap: 12px;\n",
              "    }\n",
              "\n",
              "    .colab-df-convert {\n",
              "      background-color: #E8F0FE;\n",
              "      border: none;\n",
              "      border-radius: 50%;\n",
              "      cursor: pointer;\n",
              "      display: none;\n",
              "      fill: #1967D2;\n",
              "      height: 32px;\n",
              "      padding: 0 0 0 0;\n",
              "      width: 32px;\n",
              "    }\n",
              "\n",
              "    .colab-df-convert:hover {\n",
              "      background-color: #E2EBFA;\n",
              "      box-shadow: 0px 1px 2px rgba(60, 64, 67, 0.3), 0px 1px 3px 1px rgba(60, 64, 67, 0.15);\n",
              "      fill: #174EA6;\n",
              "    }\n",
              "\n",
              "    [theme=dark] .colab-df-convert {\n",
              "      background-color: #3B4455;\n",
              "      fill: #D2E3FC;\n",
              "    }\n",
              "\n",
              "    [theme=dark] .colab-df-convert:hover {\n",
              "      background-color: #434B5C;\n",
              "      box-shadow: 0px 1px 3px 1px rgba(0, 0, 0, 0.15);\n",
              "      filter: drop-shadow(0px 1px 2px rgba(0, 0, 0, 0.3));\n",
              "      fill: #FFFFFF;\n",
              "    }\n",
              "  </style>\n",
              "\n",
              "      <script>\n",
              "        const buttonEl =\n",
              "          document.querySelector('#df-f61db846-381c-4bd8-8d80-cf0554c2b39f button.colab-df-convert');\n",
              "        buttonEl.style.display =\n",
              "          google.colab.kernel.accessAllowed ? 'block' : 'none';\n",
              "\n",
              "        async function convertToInteractive(key) {\n",
              "          const element = document.querySelector('#df-f61db846-381c-4bd8-8d80-cf0554c2b39f');\n",
              "          const dataTable =\n",
              "            await google.colab.kernel.invokeFunction('convertToInteractive',\n",
              "                                                     [key], {});\n",
              "          if (!dataTable) return;\n",
              "\n",
              "          const docLinkHtml = 'Like what you see? Visit the ' +\n",
              "            '<a target=\"_blank\" href=https://colab.research.google.com/notebooks/data_table.ipynb>data table notebook</a>'\n",
              "            + ' to learn more about interactive tables.';\n",
              "          element.innerHTML = '';\n",
              "          dataTable['output_type'] = 'display_data';\n",
              "          await google.colab.output.renderOutput(dataTable, element);\n",
              "          const docLink = document.createElement('div');\n",
              "          docLink.innerHTML = docLinkHtml;\n",
              "          element.appendChild(docLink);\n",
              "        }\n",
              "      </script>\n",
              "    </div>\n",
              "  </div>\n",
              "  "
            ]
          },
          "metadata": {},
          "execution_count": 64
        }
      ]
    },
    {
      "cell_type": "code",
      "source": [
        "list_updated_df = updated_df.iloc[:,-4:].values.tolist()"
      ],
      "metadata": {
        "id": "lVwISK4RrCq1"
      },
      "execution_count": null,
      "outputs": []
    },
    {
      "cell_type": "code",
      "source": [
        "len(list_updated_df)"
      ],
      "metadata": {
        "colab": {
          "base_uri": "https://localhost:8080/"
        },
        "id": "WTQ8ZIX_rt22",
        "outputId": "9c5a1700-4757-41cc-c55e-f5544dfd9f44"
      },
      "execution_count": null,
      "outputs": [
        {
          "output_type": "execute_result",
          "data": {
            "text/plain": [
              "21"
            ]
          },
          "metadata": {},
          "execution_count": 66
        }
      ]
    },
    {
      "cell_type": "code",
      "source": [
        "len_updated_df = 4"
      ],
      "metadata": {
        "id": "m2n_XXgJrErd"
      },
      "execution_count": null,
      "outputs": []
    },
    {
      "cell_type": "code",
      "source": [
        "cell_values = []\n",
        "for i in list_updated_df : \n",
        "  for j in range(len_updated_df) : \n",
        "    cell_values.append(str(i[j]))\n",
        "\n",
        "len(cell_values)"
      ],
      "metadata": {
        "colab": {
          "base_uri": "https://localhost:8080/"
        },
        "id": "zsKxy6fMrHeu",
        "outputId": "b938fa2e-475f-431e-c01b-96fa186aeb77"
      },
      "execution_count": null,
      "outputs": [
        {
          "output_type": "execute_result",
          "data": {
            "text/plain": [
              "84"
            ]
          },
          "metadata": {},
          "execution_count": 68
        }
      ]
    },
    {
      "cell_type": "code",
      "source": [
        "print(length_df, length_end)"
      ],
      "metadata": {
        "colab": {
          "base_uri": "https://localhost:8080/"
        },
        "id": "m3hwvr58rJ2d",
        "outputId": "bd02fa0c-1463-445d-d3b9-a9b4e97118ad"
      },
      "execution_count": null,
      "outputs": [
        {
          "output_type": "stream",
          "name": "stdout",
          "text": [
            "773 793\n"
          ]
        }
      ]
    },
    {
      "cell_type": "code",
      "source": [
        "start_cell = \"E%d\"%length_df\n",
        "end_cell = \"H%d\"%length_end \n",
        "cell_range = f\"{start_cell}:{end_cell}\"\n",
        "print(cell_range)"
      ],
      "metadata": {
        "colab": {
          "base_uri": "https://localhost:8080/"
        },
        "id": "uL1bQLZfrMmG",
        "outputId": "e59ba430-44f1-4444-ad7a-f391fa500a0c"
      },
      "execution_count": null,
      "outputs": [
        {
          "output_type": "stream",
          "name": "stdout",
          "text": [
            "E773:H793\n"
          ]
        }
      ]
    },
    {
      "cell_type": "code",
      "source": [
        "cell_list = worksheet.range(cell_range)\n",
        "len(cell_list)"
      ],
      "metadata": {
        "colab": {
          "base_uri": "https://localhost:8080/"
        },
        "id": "23BptVXKrRO2",
        "outputId": "e5e2a883-b5f0-4915-af16-0016de72982f"
      },
      "execution_count": null,
      "outputs": [
        {
          "output_type": "execute_result",
          "data": {
            "text/plain": [
              "84"
            ]
          },
          "metadata": {},
          "execution_count": 71
        }
      ]
    },
    {
      "cell_type": "code",
      "source": [
        "for c, cell in enumerate(cell_list):\n",
        "  cell.value = cell_values[c]"
      ],
      "metadata": {
        "id": "Pqs4oq7GrSvA"
      },
      "execution_count": null,
      "outputs": []
    },
    {
      "cell_type": "code",
      "source": [
        "worksheet.update_cells(cell_list)"
      ],
      "metadata": {
        "colab": {
          "base_uri": "https://localhost:8080/"
        },
        "id": "ExIedE-jrTz-",
        "outputId": "e0eaebc0-6649-4f02-ab35-089143452f9b"
      },
      "execution_count": null,
      "outputs": [
        {
          "output_type": "execute_result",
          "data": {
            "text/plain": [
              "{'spreadsheetId': '1bJjX4OQt_WE6qW-57IRaXqBafMuojdfK42xL4QU5jX4',\n",
              " 'updatedRange': 'Sheet1!E773:H793',\n",
              " 'updatedRows': 21,\n",
              " 'updatedColumns': 4,\n",
              " 'updatedCells': 84}"
            ]
          },
          "metadata": {},
          "execution_count": 73
        }
      ]
    }
  ]
}